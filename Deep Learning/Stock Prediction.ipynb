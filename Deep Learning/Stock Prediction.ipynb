{
 "cells": [
  {
   "cell_type": "markdown",
   "id": "7168dda0-8efa-4fd6-8f3c-0733bed369b3",
   "metadata": {},
   "source": [
    "# BHARAT INTERN TASK 1: Stock Prediction with LSTM\n",
    "\n",
    "To start, let me explain what we're aiming to do. We're going to use LSTM, a type of neural network, to predict future stock prices based on historical data. LSTM is particularly useful for this task because it can capture patterns in sequential data, like time-series data such as stock prices."
   ]
  },
  {
   "cell_type": "markdown",
   "id": "f32c776f-b791-4f7e-be48-1d96b37cbae1",
   "metadata": {},
   "source": [
    "### Importing Libraries"
   ]
  },
  {
   "cell_type": "code",
   "execution_count": 70,
   "id": "09c9bb92-800a-47b3-aaf7-0757444a402c",
   "metadata": {},
   "outputs": [
    {
     "name": "stdout",
     "output_type": "stream",
     "text": [
      "Unexpected exception formatting exception. Falling back to standard exception\n"
     ]
    },
    {
     "name": "stderr",
     "output_type": "stream",
     "text": [
      "Traceback (most recent call last):\n",
      "  File \"C:\\Users\\PC\\anaconda3\\Lib\\site-packages\\IPython\\core\\interactiveshell.py\", line 3553, in run_code\n",
      "    exec(code_obj, self.user_global_ns, self.user_ns)\n",
      "  File \"C:\\Users\\PC\\AppData\\Local\\Temp\\ipykernel_5360\\3134005389.py\", line 10, in <module>\n",
      "    from tensorflow.keras.models import Sequential\n",
      "  File \"C:\\Users\\PC\\anaconda3\\Lib\\site-packages\\keras\\api\\_v2\\keras\\__init__.py\", line 3, in <module>\n",
      "    from keras.api._v2.keras import __internal__\n",
      "  File \"C:\\Users\\PC\\anaconda3\\Lib\\site-packages\\keras\\api\\_v2\\keras\\__init__.py\", line 3, in <module>\n",
      "    from keras.api._v2.keras import __internal__\n",
      "  File \"C:\\Users\\PC\\anaconda3\\Lib\\site-packages\\keras\\api\\_v2\\keras\\__internal__\\__init__.py\", line 3, in <module>\n",
      "    from keras.api._v2.keras.__internal__ import backend\n",
      "  File \"C:\\Users\\PC\\anaconda3\\Lib\\site-packages\\keras\\api\\_v2\\keras\\__internal__\\backend\\__init__.py\", line 3, in <module>\n",
      "    from keras.src.backend import _initialize_variables as initialize_variables\n",
      "  File \"C:\\Users\\PC\\anaconda3\\Lib\\site-packages\\keras\\src\\__init__.py\", line 21, in <module>\n",
      "    from keras.src import applications\n",
      "  File \"C:\\Users\\PC\\anaconda3\\Lib\\site-packages\\keras\\src\\applications\\__init__.py\", line 18, in <module>\n",
      "    from keras.src.applications.convnext import ConvNeXtBase\n",
      "  File \"C:\\Users\\PC\\anaconda3\\Lib\\site-packages\\keras\\src\\applications\\convnext.py\", line 28, in <module>\n",
      "    from keras.src import backend\n",
      "  File \"C:\\Users\\PC\\anaconda3\\Lib\\site-packages\\keras\\src\\backend.py\", line 35, in <module>\n",
      "    from keras.src.engine import keras_tensor\n",
      "  File \"C:\\Users\\PC\\anaconda3\\Lib\\site-packages\\keras\\src\\engine\\keras_tensor.py\", line 19, in <module>\n",
      "    from keras.src.utils import object_identity\n",
      "  File \"C:\\Users\\PC\\anaconda3\\Lib\\site-packages\\keras\\src\\utils\\__init__.py\", line 20, in <module>\n",
      "    from keras.src.saving.serialization_lib import deserialize_keras_object\n",
      "  File \"C:\\Users\\PC\\anaconda3\\Lib\\site-packages\\keras\\src\\saving\\serialization_lib.py\", line 28, in <module>\n",
      "    from keras.src.saving.legacy.saved_model.utils import in_tf_saved_model_scope\n",
      "  File \"C:\\Users\\PC\\anaconda3\\Lib\\site-packages\\keras\\src\\saving\\legacy\\saved_model\\utils.py\", line 30, in <module>\n",
      "    from keras.src.utils.layer_utils import CallFunctionSpec\n",
      "  File \"C:\\Users\\PC\\anaconda3\\Lib\\site-packages\\keras\\src\\utils\\layer_utils.py\", line 26, in <module>\n",
      "    from keras.src import initializers\n",
      "  File \"C:\\Users\\PC\\anaconda3\\Lib\\site-packages\\keras\\src\\initializers\\__init__.py\", line 23, in <module>\n",
      "    from keras.src.initializers import initializers_v1\n",
      "  File \"C:\\Users\\PC\\anaconda3\\Lib\\site-packages\\keras\\src\\initializers\\initializers_v1.py\", line 32, in <module>\n",
      "    keras_export(v1=[\"keras.initializers.Zeros\", \"keras.initializers.zeros\"])(\n",
      "  File \"C:\\Users\\PC\\anaconda3\\Lib\\site-packages\\tensorflow\\python\\util\\tf_export.py\", line 348, in __call__\n",
      "    _NAME_TO_SYMBOL_MAPPING[name] = func\n",
      "  File \"C:\\Users\\PC\\anaconda3\\Lib\\site-packages\\tensorflow\\python\\util\\tf_export.py\", line 364, in set_attr\n",
      "tensorflow.python.util.tf_export.SymbolAlreadyExposedError: Symbol Zeros is already exposed as ().\n",
      "\n",
      "During handling of the above exception, another exception occurred:\n",
      "\n",
      "Traceback (most recent call last):\n",
      "  File \"C:\\Users\\PC\\anaconda3\\Lib\\site-packages\\IPython\\core\\interactiveshell.py\", line 2144, in showtraceback\n",
      "    stb = self.InteractiveTB.structured_traceback(\n",
      "          ^^^^^^^^^^^^^^^^^^^^^^^^^^^^^^^^^^^^^^^^\n",
      "  File \"C:\\Users\\PC\\anaconda3\\Lib\\site-packages\\IPython\\core\\ultratb.py\", line 1435, in structured_traceback\n",
      "    return FormattedTB.structured_traceback(\n",
      "           ^^^^^^^^^^^^^^^^^^^^^^^^^^^^^^^^^\n",
      "  File \"C:\\Users\\PC\\anaconda3\\Lib\\site-packages\\IPython\\core\\ultratb.py\", line 1326, in structured_traceback\n",
      "    return VerboseTB.structured_traceback(\n",
      "           ^^^^^^^^^^^^^^^^^^^^^^^^^^^^^^^\n",
      "  File \"C:\\Users\\PC\\anaconda3\\Lib\\site-packages\\IPython\\core\\ultratb.py\", line 1173, in structured_traceback\n",
      "    formatted_exception = self.format_exception_as_a_whole(etype, evalue, etb, number_of_lines_of_context,\n",
      "                          ^^^^^^^^^^^^^^^^^^^^^^^^^^^^^^^^^^^^^^^^^^^^^^^^^^^^^^^^^^^^^^^^^^^^^^^^^^^^^^^^\n",
      "  File \"C:\\Users\\PC\\anaconda3\\Lib\\site-packages\\IPython\\core\\ultratb.py\", line 1088, in format_exception_as_a_whole\n",
      "    frames.append(self.format_record(record))\n",
      "                  ^^^^^^^^^^^^^^^^^^^^^^^^^^\n",
      "  File \"C:\\Users\\PC\\anaconda3\\Lib\\site-packages\\IPython\\core\\ultratb.py\", line 970, in format_record\n",
      "    frame_info.lines, Colors, self.has_colors, lvals\n",
      "    ^^^^^^^^^^^^^^^^\n",
      "  File \"C:\\Users\\PC\\anaconda3\\Lib\\site-packages\\IPython\\core\\ultratb.py\", line 792, in lines\n",
      "    return self._sd.lines\n",
      "           ^^^^^^^^^^^^^^\n",
      "  File \"C:\\Users\\PC\\anaconda3\\Lib\\site-packages\\stack_data\\utils.py\", line 145, in cached_property_wrapper\n",
      "    value = obj.__dict__[self.func.__name__] = self.func(obj)\n",
      "                                               ^^^^^^^^^^^^^^\n",
      "  File \"C:\\Users\\PC\\anaconda3\\Lib\\site-packages\\stack_data\\core.py\", line 698, in lines\n",
      "    pieces = self.included_pieces\n",
      "             ^^^^^^^^^^^^^^^^^^^^\n",
      "  File \"C:\\Users\\PC\\anaconda3\\Lib\\site-packages\\stack_data\\utils.py\", line 145, in cached_property_wrapper\n",
      "    value = obj.__dict__[self.func.__name__] = self.func(obj)\n",
      "                                               ^^^^^^^^^^^^^^\n",
      "  File \"C:\\Users\\PC\\anaconda3\\Lib\\site-packages\\stack_data\\core.py\", line 649, in included_pieces\n",
      "    pos = scope_pieces.index(self.executing_piece)\n",
      "                             ^^^^^^^^^^^^^^^^^^^^\n",
      "  File \"C:\\Users\\PC\\anaconda3\\Lib\\site-packages\\stack_data\\utils.py\", line 145, in cached_property_wrapper\n",
      "    value = obj.__dict__[self.func.__name__] = self.func(obj)\n",
      "                                               ^^^^^^^^^^^^^^\n",
      "  File \"C:\\Users\\PC\\anaconda3\\Lib\\site-packages\\stack_data\\core.py\", line 628, in executing_piece\n",
      "    return only(\n",
      "           ^^^^^\n",
      "  File \"C:\\Users\\PC\\anaconda3\\Lib\\site-packages\\executing\\executing.py\", line 164, in only\n",
      "    raise NotOneValueFound('Expected one value, found 0')\n",
      "executing.executing.NotOneValueFound: Expected one value, found 0\n"
     ]
    }
   ],
   "source": [
    "#1. Importing necessary libraries\n",
    "import numpy as np \n",
    "import pandas as pd \n",
    "import matplotlib.pyplot as plt\n",
    "from sklearn.metrics import mean_squared_error\n",
    "import yfinance as yf\n",
    "from sklearn.preprocessing import MinMaxScaler \n",
    "#from keras.models import Sequential\n",
    "#from keras.layers import Dense, LSTM, Dropout\n",
    "from tensorflow.keras.models import Sequential\n",
    "from tensorflow.keras.layers import LSTM, Dropout, Dense\n",
    "\n",
    "#2. Suppress warnings\n",
    "import warnings\n",
    "warnings.filterwarnings('ignore')\n"
   ]
  },
  {
   "cell_type": "markdown",
   "id": "2ff4c101-6b4c-4571-b1bc-e1a196a4fcca",
   "metadata": {},
   "source": [
    "### Data Preprocessing:"
   ]
  },
  {
   "cell_type": "code",
   "execution_count": 4,
   "id": "1a3c8c0e-7db9-449f-99be-ba785e8813f0",
   "metadata": {},
   "outputs": [],
   "source": [
    "#3. Download data using Yahoo finance API"
   ]
  },
  {
   "cell_type": "code",
   "execution_count": 2,
   "id": "7dad9172-80fb-4566-b16c-15bcc2ed8ec4",
   "metadata": {},
   "outputs": [
    {
     "name": "stderr",
     "output_type": "stream",
     "text": [
      "[*********************100%%**********************]  1 of 1 completed\n"
     ]
    }
   ],
   "source": [
    "df = yf.download('TSLA').reset_index()\n",
    "df = df[(df['Date'] >= \"2012-01-01\") & (df['Date'] <= \"2024-06-24\")].reset_index(drop=True)"
   ]
  },
  {
   "cell_type": "code",
   "execution_count": 10,
   "id": "8f8b78f6-629d-44e3-aff8-3ee191983de9",
   "metadata": {},
   "outputs": [],
   "source": [
    "#4. Load Data and View basic information"
   ]
  },
  {
   "cell_type": "code",
   "execution_count": 3,
   "id": "f7d7117d-9773-46d2-90b5-e00731a5d760",
   "metadata": {},
   "outputs": [
    {
     "data": {
      "text/html": [
       "<div>\n",
       "<style scoped>\n",
       "    .dataframe tbody tr th:only-of-type {\n",
       "        vertical-align: middle;\n",
       "    }\n",
       "\n",
       "    .dataframe tbody tr th {\n",
       "        vertical-align: top;\n",
       "    }\n",
       "\n",
       "    .dataframe thead th {\n",
       "        text-align: right;\n",
       "    }\n",
       "</style>\n",
       "<table border=\"1\" class=\"dataframe\">\n",
       "  <thead>\n",
       "    <tr style=\"text-align: right;\">\n",
       "      <th></th>\n",
       "      <th>Date</th>\n",
       "      <th>Open</th>\n",
       "      <th>High</th>\n",
       "      <th>Low</th>\n",
       "      <th>Close</th>\n",
       "      <th>Adj Close</th>\n",
       "      <th>Volume</th>\n",
       "    </tr>\n",
       "  </thead>\n",
       "  <tbody>\n",
       "    <tr>\n",
       "      <th>0</th>\n",
       "      <td>2012-01-03</td>\n",
       "      <td>1.929333</td>\n",
       "      <td>1.966667</td>\n",
       "      <td>1.843333</td>\n",
       "      <td>1.872000</td>\n",
       "      <td>1.872000</td>\n",
       "      <td>13921500</td>\n",
       "    </tr>\n",
       "    <tr>\n",
       "      <th>1</th>\n",
       "      <td>2012-01-04</td>\n",
       "      <td>1.880667</td>\n",
       "      <td>1.911333</td>\n",
       "      <td>1.833333</td>\n",
       "      <td>1.847333</td>\n",
       "      <td>1.847333</td>\n",
       "      <td>9451500</td>\n",
       "    </tr>\n",
       "    <tr>\n",
       "      <th>2</th>\n",
       "      <td>2012-01-05</td>\n",
       "      <td>1.850667</td>\n",
       "      <td>1.862000</td>\n",
       "      <td>1.790000</td>\n",
       "      <td>1.808000</td>\n",
       "      <td>1.808000</td>\n",
       "      <td>15082500</td>\n",
       "    </tr>\n",
       "    <tr>\n",
       "      <th>3</th>\n",
       "      <td>2012-01-06</td>\n",
       "      <td>1.813333</td>\n",
       "      <td>1.852667</td>\n",
       "      <td>1.760667</td>\n",
       "      <td>1.794000</td>\n",
       "      <td>1.794000</td>\n",
       "      <td>14794500</td>\n",
       "    </tr>\n",
       "    <tr>\n",
       "      <th>4</th>\n",
       "      <td>2012-01-09</td>\n",
       "      <td>1.800000</td>\n",
       "      <td>1.832667</td>\n",
       "      <td>1.741333</td>\n",
       "      <td>1.816667</td>\n",
       "      <td>1.816667</td>\n",
       "      <td>13455000</td>\n",
       "    </tr>\n",
       "    <tr>\n",
       "      <th>5</th>\n",
       "      <td>2012-01-10</td>\n",
       "      <td>1.829333</td>\n",
       "      <td>1.850667</td>\n",
       "      <td>1.816667</td>\n",
       "      <td>1.841333</td>\n",
       "      <td>1.841333</td>\n",
       "      <td>10077000</td>\n",
       "    </tr>\n",
       "    <tr>\n",
       "      <th>6</th>\n",
       "      <td>2012-01-11</td>\n",
       "      <td>1.841333</td>\n",
       "      <td>1.892000</td>\n",
       "      <td>1.820000</td>\n",
       "      <td>1.882000</td>\n",
       "      <td>1.882000</td>\n",
       "      <td>10084500</td>\n",
       "    </tr>\n",
       "    <tr>\n",
       "      <th>7</th>\n",
       "      <td>2012-01-12</td>\n",
       "      <td>1.898667</td>\n",
       "      <td>1.908000</td>\n",
       "      <td>1.854000</td>\n",
       "      <td>1.883333</td>\n",
       "      <td>1.883333</td>\n",
       "      <td>10939500</td>\n",
       "    </tr>\n",
       "    <tr>\n",
       "      <th>8</th>\n",
       "      <td>2012-01-13</td>\n",
       "      <td>1.893333</td>\n",
       "      <td>1.900000</td>\n",
       "      <td>1.509333</td>\n",
       "      <td>1.519333</td>\n",
       "      <td>1.519333</td>\n",
       "      <td>82506000</td>\n",
       "    </tr>\n",
       "    <tr>\n",
       "      <th>9</th>\n",
       "      <td>2012-01-17</td>\n",
       "      <td>1.774667</td>\n",
       "      <td>1.822667</td>\n",
       "      <td>1.760667</td>\n",
       "      <td>1.773333</td>\n",
       "      <td>1.773333</td>\n",
       "      <td>69774000</td>\n",
       "    </tr>\n",
       "    <tr>\n",
       "      <th>10</th>\n",
       "      <td>2012-01-18</td>\n",
       "      <td>1.779333</td>\n",
       "      <td>1.792000</td>\n",
       "      <td>1.750000</td>\n",
       "      <td>1.787333</td>\n",
       "      <td>1.787333</td>\n",
       "      <td>18903000</td>\n",
       "    </tr>\n",
       "  </tbody>\n",
       "</table>\n",
       "</div>"
      ],
      "text/plain": [
       "         Date      Open      High       Low     Close  Adj Close    Volume\n",
       "0  2012-01-03  1.929333  1.966667  1.843333  1.872000   1.872000  13921500\n",
       "1  2012-01-04  1.880667  1.911333  1.833333  1.847333   1.847333   9451500\n",
       "2  2012-01-05  1.850667  1.862000  1.790000  1.808000   1.808000  15082500\n",
       "3  2012-01-06  1.813333  1.852667  1.760667  1.794000   1.794000  14794500\n",
       "4  2012-01-09  1.800000  1.832667  1.741333  1.816667   1.816667  13455000\n",
       "5  2012-01-10  1.829333  1.850667  1.816667  1.841333   1.841333  10077000\n",
       "6  2012-01-11  1.841333  1.892000  1.820000  1.882000   1.882000  10084500\n",
       "7  2012-01-12  1.898667  1.908000  1.854000  1.883333   1.883333  10939500\n",
       "8  2012-01-13  1.893333  1.900000  1.509333  1.519333   1.519333  82506000\n",
       "9  2012-01-17  1.774667  1.822667  1.760667  1.773333   1.773333  69774000\n",
       "10 2012-01-18  1.779333  1.792000  1.750000  1.787333   1.787333  18903000"
      ]
     },
     "execution_count": 3,
     "metadata": {},
     "output_type": "execute_result"
    }
   ],
   "source": [
    "df.head(n=11)"
   ]
  },
  {
   "cell_type": "code",
   "execution_count": 7,
   "id": "df366816-3e57-44b3-b7a2-73904d80f8bb",
   "metadata": {},
   "outputs": [
    {
     "data": {
      "text/plain": [
       "(3128, 7)"
      ]
     },
     "execution_count": 7,
     "metadata": {},
     "output_type": "execute_result"
    }
   ],
   "source": [
    "df.shape"
   ]
  },
  {
   "cell_type": "code",
   "execution_count": 8,
   "id": "bb9466fa-aaa0-4ca6-ac4b-2882efeea4d6",
   "metadata": {},
   "outputs": [
    {
     "data": {
      "text/html": [
       "<div>\n",
       "<style scoped>\n",
       "    .dataframe tbody tr th:only-of-type {\n",
       "        vertical-align: middle;\n",
       "    }\n",
       "\n",
       "    .dataframe tbody tr th {\n",
       "        vertical-align: top;\n",
       "    }\n",
       "\n",
       "    .dataframe thead th {\n",
       "        text-align: right;\n",
       "    }\n",
       "</style>\n",
       "<table border=\"1\" class=\"dataframe\">\n",
       "  <thead>\n",
       "    <tr style=\"text-align: right;\">\n",
       "      <th></th>\n",
       "      <th>Date</th>\n",
       "      <th>Open</th>\n",
       "      <th>High</th>\n",
       "      <th>Low</th>\n",
       "      <th>Close</th>\n",
       "      <th>Adj Close</th>\n",
       "      <th>Volume</th>\n",
       "    </tr>\n",
       "  </thead>\n",
       "  <tbody>\n",
       "    <tr>\n",
       "      <th>count</th>\n",
       "      <td>3128</td>\n",
       "      <td>3128.000000</td>\n",
       "      <td>3128.000000</td>\n",
       "      <td>3128.000000</td>\n",
       "      <td>3128.000000</td>\n",
       "      <td>3128.000000</td>\n",
       "      <td>3.128000e+03</td>\n",
       "    </tr>\n",
       "    <tr>\n",
       "      <th>mean</th>\n",
       "      <td>2018-03-21 14:31:55.089513984</td>\n",
       "      <td>82.925367</td>\n",
       "      <td>84.727733</td>\n",
       "      <td>80.986794</td>\n",
       "      <td>82.898796</td>\n",
       "      <td>82.898796</td>\n",
       "      <td>1.061133e+08</td>\n",
       "    </tr>\n",
       "    <tr>\n",
       "      <th>min</th>\n",
       "      <td>2012-01-03 00:00:00</td>\n",
       "      <td>1.774667</td>\n",
       "      <td>1.790000</td>\n",
       "      <td>1.509333</td>\n",
       "      <td>1.519333</td>\n",
       "      <td>1.519333</td>\n",
       "      <td>5.473500e+06</td>\n",
       "    </tr>\n",
       "    <tr>\n",
       "      <th>25%</th>\n",
       "      <td>2015-02-11 18:00:00</td>\n",
       "      <td>13.963000</td>\n",
       "      <td>14.220833</td>\n",
       "      <td>13.748333</td>\n",
       "      <td>13.923833</td>\n",
       "      <td>13.923833</td>\n",
       "      <td>5.916075e+07</td>\n",
       "    </tr>\n",
       "    <tr>\n",
       "      <th>50%</th>\n",
       "      <td>2018-03-21 12:00:00</td>\n",
       "      <td>19.863333</td>\n",
       "      <td>20.263332</td>\n",
       "      <td>19.486667</td>\n",
       "      <td>19.866666</td>\n",
       "      <td>19.866666</td>\n",
       "      <td>8.916315e+07</td>\n",
       "    </tr>\n",
       "    <tr>\n",
       "      <th>75%</th>\n",
       "      <td>2021-04-29 06:00:00</td>\n",
       "      <td>176.224998</td>\n",
       "      <td>180.049995</td>\n",
       "      <td>173.565002</td>\n",
       "      <td>177.465004</td>\n",
       "      <td>177.465004</td>\n",
       "      <td>1.287229e+08</td>\n",
       "    </tr>\n",
       "    <tr>\n",
       "      <th>max</th>\n",
       "      <td>2024-06-07 00:00:00</td>\n",
       "      <td>411.470001</td>\n",
       "      <td>414.496674</td>\n",
       "      <td>405.666656</td>\n",
       "      <td>409.970001</td>\n",
       "      <td>409.970001</td>\n",
       "      <td>9.140820e+08</td>\n",
       "    </tr>\n",
       "    <tr>\n",
       "      <th>std</th>\n",
       "      <td>NaN</td>\n",
       "      <td>104.674739</td>\n",
       "      <td>106.981375</td>\n",
       "      <td>102.133304</td>\n",
       "      <td>104.586604</td>\n",
       "      <td>104.586604</td>\n",
       "      <td>7.821339e+07</td>\n",
       "    </tr>\n",
       "  </tbody>\n",
       "</table>\n",
       "</div>"
      ],
      "text/plain": [
       "                                Date         Open         High          Low  \\\n",
       "count                           3128  3128.000000  3128.000000  3128.000000   \n",
       "mean   2018-03-21 14:31:55.089513984    82.925367    84.727733    80.986794   \n",
       "min              2012-01-03 00:00:00     1.774667     1.790000     1.509333   \n",
       "25%              2015-02-11 18:00:00    13.963000    14.220833    13.748333   \n",
       "50%              2018-03-21 12:00:00    19.863333    20.263332    19.486667   \n",
       "75%              2021-04-29 06:00:00   176.224998   180.049995   173.565002   \n",
       "max              2024-06-07 00:00:00   411.470001   414.496674   405.666656   \n",
       "std                              NaN   104.674739   106.981375   102.133304   \n",
       "\n",
       "             Close    Adj Close        Volume  \n",
       "count  3128.000000  3128.000000  3.128000e+03  \n",
       "mean     82.898796    82.898796  1.061133e+08  \n",
       "min       1.519333     1.519333  5.473500e+06  \n",
       "25%      13.923833    13.923833  5.916075e+07  \n",
       "50%      19.866666    19.866666  8.916315e+07  \n",
       "75%     177.465004   177.465004  1.287229e+08  \n",
       "max     409.970001   409.970001  9.140820e+08  \n",
       "std     104.586604   104.586604  7.821339e+07  "
      ]
     },
     "execution_count": 8,
     "metadata": {},
     "output_type": "execute_result"
    }
   ],
   "source": [
    "df.describe()"
   ]
  },
  {
   "cell_type": "code",
   "execution_count": 9,
   "id": "06fbbbcc-fb55-44b3-9ab6-fa081b622f8d",
   "metadata": {},
   "outputs": [
    {
     "name": "stdout",
     "output_type": "stream",
     "text": [
      "<class 'pandas.core.frame.DataFrame'>\n",
      "RangeIndex: 3128 entries, 0 to 3127\n",
      "Data columns (total 7 columns):\n",
      " #   Column     Non-Null Count  Dtype         \n",
      "---  ------     --------------  -----         \n",
      " 0   Date       3128 non-null   datetime64[ns]\n",
      " 1   Open       3128 non-null   float64       \n",
      " 2   High       3128 non-null   float64       \n",
      " 3   Low        3128 non-null   float64       \n",
      " 4   Close      3128 non-null   float64       \n",
      " 5   Adj Close  3128 non-null   float64       \n",
      " 6   Volume     3128 non-null   int64         \n",
      "dtypes: datetime64[ns](1), float64(5), int64(1)\n",
      "memory usage: 171.2 KB\n"
     ]
    }
   ],
   "source": [
    "df.info()"
   ]
  },
  {
   "cell_type": "code",
   "execution_count": 11,
   "id": "de88c9c8-d56e-47ac-be42-4903d3a98063",
   "metadata": {},
   "outputs": [
    {
     "data": {
      "text/plain": [
       "Date         0\n",
       "Open         0\n",
       "High         0\n",
       "Low          0\n",
       "Close        0\n",
       "Adj Close    0\n",
       "Volume       0\n",
       "dtype: int64"
      ]
     },
     "execution_count": 11,
     "metadata": {},
     "output_type": "execute_result"
    }
   ],
   "source": [
    "#5. Check for missing values\n",
    "df.isna().sum()"
   ]
  },
  {
   "cell_type": "code",
   "execution_count": 24,
   "id": "ca2ffacb-2004-4235-b0bb-5f5a65f94631",
   "metadata": {},
   "outputs": [],
   "source": [
    "#6 Scaling the Closing Price\n",
    "# Using MinMaxScaler formula: y = (y - min(y)) / (max(y) - min(y))\n",
    "scaler = MinMaxScaler(feature_range=(0,1))\n",
    "df['scaled_values'] = scaler.fit_transform(df['Close'].values.reshape(-1,1))\n"
   ]
  },
  {
   "cell_type": "markdown",
   "id": "b7500486-9258-4e63-abf2-1111654d71bf",
   "metadata": {},
   "source": [
    "### Data Splitting "
   ]
  },
  {
   "cell_type": "code",
   "execution_count": 26,
   "id": "f6b27d78-1cd8-4ff3-afb5-16e954354072",
   "metadata": {},
   "outputs": [],
   "source": [
    "# Splitting data into train and test sets\n",
    "train_data = df[df['Date'] < '2023-01-01']\n",
    "test_data = df[df['Date'] >= '2023-01-01']"
   ]
  },
  {
   "cell_type": "markdown",
   "id": "7f6d833c-039c-42df-82aa-41c459ecd30a",
   "metadata": {},
   "source": [
    "###  Data Visualization"
   ]
  },
  {
   "cell_type": "code",
   "execution_count": 12,
   "id": "7764eec2-fd2a-4141-84bd-36531077674d",
   "metadata": {},
   "outputs": [],
   "source": [
    "#7. Data Visualization"
   ]
  },
  {
   "cell_type": "code",
   "execution_count": 17,
   "id": "e3e89acf-33df-463e-99dc-25dea2266edc",
   "metadata": {},
   "outputs": [
    {
     "data": {
      "image/png": "[encoded data removed]",
      "text/plain": [
       "<Figure size 640x480 with 1 Axes>"
      ]
     },
     "metadata": {},
     "output_type": "display_data"
    }
   ],
   "source": [
    "#7.1 Tesla Stock Chart 2012-2023\n",
    "plt.plot(df[\"Date\"], df[\"Close\"], color='red')  \n",
    "plt.title(\"Tesla stock price over time\")\n",
    "plt.xlabel(\"Time\")\n",
    "plt.ylabel(\"Price\")\n",
    "plt.show()\n"
   ]
  },
  {
   "cell_type": "code",
   "execution_count": 37,
   "id": "e99c5d54-3a08-4a25-8062-eb5f6d81bfa3",
   "metadata": {},
   "outputs": [
    {
     "data": {
      "image/png": "[encoded data removed]",
      "text/plain": [
       "<Figure size 1200x800 with 1 Axes>"
      ]
     },
     "metadata": {},
     "output_type": "display_data"
    }
   ],
   "source": [
    "#7.2 Tesla Stock Price Chart\n",
    "# Plotting the data\n",
    "plt.figure(figsize=(12,8))\n",
    "plt.grid(True)\n",
    "plt.xlabel('Dates')\n",
    "plt.ylabel('Closing Prices')\n",
    "plt.plot(df['Date'], df['Close'], color='blue', label='Train data')  # Changing color to orange for train data\n",
    "plt.plot(test_data['Date'], test_data['Close'], color='purple', label='Test data')  # Changing color to purple for test data\n",
    "plt.legend()\n",
    "plt.show()"
   ]
  },
  {
   "cell_type": "markdown",
   "id": "d7a6b814-c6b4-4509-871a-676a56e3ff5a",
   "metadata": {},
   "source": [
    "### Data Preparation"
   ]
  },
  {
   "cell_type": "code",
   "execution_count": 49,
   "id": "ef2efa87-34c5-405d-b96a-7265c33a452d",
   "metadata": {},
   "outputs": [],
   "source": [
    "#8.1 Data Preparation for LSTM Model Training\n",
    "x_train = []\n",
    "y_train = []\n",
    "\n",
    "for i in range(90, len(train_data['scaled_values'])):  # Changed range from 60 to 90\n",
    "    x_train.append(train_data['scaled_values'][i-90:i])  # Changed window size from 60 to 90\n",
    "    y_train.append(train_data['scaled_values'][i])\n",
    "    \n",
    "x_train, y_train = np.array(x_train), np.array(y_train)\n",
    "\n",
    "# converting it back to 3D array as required by LSTM\n",
    "x_train = np.reshape(x_train, (x_train.shape[0], x_train.shape[1], 1))\n"
   ]
  },
  {
   "cell_type": "code",
   "execution_count": 50,
   "id": "f465283e-7c08-443a-af0e-f713312e5f26",
   "metadata": {},
   "outputs": [],
   "source": [
    "#8.2 Data Preparation for LSTM Model Testing\n",
    "\n",
    "x_test = []\n",
    "y_test = test_data['scaled_values']\n",
    "\n",
    "for i in range(90, len(test_data)):  # Using a window size of 90\n",
    "    x_test.append(test_data['scaled_values'][i-90:i])\n",
    "\n",
    "x_test = np.array(x_test)\n",
    "x_test = np.reshape(x_test, (x_test.shape[0], x_test.shape[1], 1))\n"
   ]
  },
  {
   "cell_type": "markdown",
   "id": "3cae30a7-dcce-4375-a7d6-3365eae26afb",
   "metadata": {},
   "source": [
    "### Model Building"
   ]
  },
  {
   "cell_type": "code",
   "execution_count": 68,
   "id": "57bc1844-449a-4082-99e7-fd57cc10974c",
   "metadata": {},
   "outputs": [],
   "source": [
    "hiddenimports=['tensorflow.python.keras.engine.base_layer_v1']"
   ]
  },
  {
   "cell_type": "code",
   "execution_count": 69,
   "id": "e35dc0ec-0924-437b-ae21-5b853795f6f7",
   "metadata": {},
   "outputs": [
    {
     "ename": "ModuleNotFoundError",
     "evalue": "No module named 'keras.engine.base_layer_v1'",
     "output_type": "error",
     "traceback": [
      "\u001b[1;31m---------------------------------------------------------------------------\u001b[0m",
      "\u001b[1;31mModuleNotFoundError\u001b[0m                       Traceback (most recent call last)",
      "Cell \u001b[1;32mIn[69], line 2\u001b[0m\n\u001b[0;32m      1\u001b[0m \u001b[38;5;66;03m# Model Architecture Definition for LSTM\u001b[39;00m\n\u001b[1;32m----> 2\u001b[0m model \u001b[38;5;241m=\u001b[39m Sequential()\n\u001b[0;32m      3\u001b[0m model\u001b[38;5;241m.\u001b[39madd(LSTM(units\u001b[38;5;241m=\u001b[39m\u001b[38;5;241m50\u001b[39m, return_sequences\u001b[38;5;241m=\u001b[39m\u001b[38;5;28;01mTrue\u001b[39;00m, input_shape\u001b[38;5;241m=\u001b[39m(x_train\u001b[38;5;241m.\u001b[39mshape[\u001b[38;5;241m1\u001b[39m], \u001b[38;5;241m1\u001b[39m)))\n\u001b[0;32m      4\u001b[0m model\u001b[38;5;241m.\u001b[39madd(Dropout(\u001b[38;5;241m0.25\u001b[39m))\n",
      "File \u001b[1;32m~\\anaconda3\\Lib\\site-packages\\keras\\engine\\training.py:195\u001b[0m, in \u001b[0;36m__new__\u001b[1;34m(cls, *args, **kwargs)\u001b[0m\n",
      "File \u001b[1;32m~\\anaconda3\\Lib\\site-packages\\keras\\engine\\base_layer.py:757\u001b[0m, in \u001b[0;36m__new__\u001b[1;34m(cls, *args, **kwargs)\u001b[0m\n",
      "File \u001b[1;32m~\\anaconda3\\Lib\\site-packages\\keras\\utils\\version_utils.py:49\u001b[0m, in \u001b[0;36m__new__\u001b[1;34m(cls, *args, **kwargs)\u001b[0m\n",
      "File \u001b[1;32m~\\anaconda3\\Lib\\site-packages\\keras\\utils\\generic_utils.py:556\u001b[0m, in \u001b[0;36m__getattr__\u001b[1;34m(self, item)\u001b[0m\n",
      "File \u001b[1;32m~\\anaconda3\\Lib\\site-packages\\keras\\utils\\generic_utils.py:547\u001b[0m, in \u001b[0;36m_load\u001b[1;34m(self)\u001b[0m\n",
      "File \u001b[1;32m~\\anaconda3\\Lib\\importlib\\__init__.py:126\u001b[0m, in \u001b[0;36mimport_module\u001b[1;34m(name, package)\u001b[0m\n\u001b[0;32m    124\u001b[0m             \u001b[38;5;28;01mbreak\u001b[39;00m\n\u001b[0;32m    125\u001b[0m         level \u001b[38;5;241m+\u001b[39m\u001b[38;5;241m=\u001b[39m \u001b[38;5;241m1\u001b[39m\n\u001b[1;32m--> 126\u001b[0m \u001b[38;5;28;01mreturn\u001b[39;00m _bootstrap\u001b[38;5;241m.\u001b[39m_gcd_import(name[level:], package, level)\n",
      "File \u001b[1;32m<frozen importlib._bootstrap>:1204\u001b[0m, in \u001b[0;36m_gcd_import\u001b[1;34m(name, package, level)\u001b[0m\n",
      "File \u001b[1;32m<frozen importlib._bootstrap>:1176\u001b[0m, in \u001b[0;36m_find_and_load\u001b[1;34m(name, import_)\u001b[0m\n",
      "File \u001b[1;32m<frozen importlib._bootstrap>:1140\u001b[0m, in \u001b[0;36m_find_and_load_unlocked\u001b[1;34m(name, import_)\u001b[0m\n",
      "\u001b[1;31mModuleNotFoundError\u001b[0m: No module named 'keras.engine.base_layer_v1'"
     ]
    }
   ],
   "source": [
    "# Model Architecture Definition for LSTM\n",
    "model = Sequential()\n",
    "model.add(LSTM(units=50, return_sequences=True, input_shape=(x_train.shape[1], 1)))\n",
    "model.add(Dropout(0.25))\n",
    "model.add(LSTM(units=50, return_sequences=True))\n",
    "model.add(Dropout(0.25))\n",
    "model.add(LSTM(units=50, return_sequences=True))\n",
    "model.add(Dropout(0.25))\n",
    "model.add(LSTM(units=50))\n",
    "model.add(Dropout(0.25))\n",
    "model.add(Dense(units=1))\n",
    "model.summary()\n"
   ]
  },
  {
   "cell_type": "code",
   "execution_count": null,
   "id": "da1be1bd-ea97-424b-8454-aa65d1a90440",
   "metadata": {},
   "outputs": [],
   "source": [
    "#Compiling the model\n",
    "model.compile(optimizer = 'adam', loss = 'mean_squared_error')"
   ]
  },
  {
   "cell_type": "markdown",
   "id": "3af30fca-0d7f-4da2-9273-621573035212",
   "metadata": {},
   "source": [
    "### Model Training"
   ]
  },
  {
   "cell_type": "code",
   "execution_count": null,
   "id": "7f93eb59-aa0a-4562-9b78-aa971c249185",
   "metadata": {},
   "outputs": [],
   "source": [
    "#Fit the model on the training data\n",
    "model.fit(x_train, y_train, epochs = 10, batch_size = 32)"
   ]
  },
  {
   "cell_type": "code",
   "execution_count": null,
   "id": "1ef3b4ba-31f1-4b17-bed3-3c0c259d987b",
   "metadata": {},
   "outputs": [],
   "source": [
    "# Predict on test data\n",
    "predicted_test_data = model.predict(x_test)\n",
    "predicted_test_data = scaler.inverse_transform(predicted_test_data)\n"
   ]
  },
  {
   "cell_type": "markdown",
   "id": "db598451-03e2-4dd9-bb47-e86e6a42bc1e",
   "metadata": {},
   "source": [
    "### Model Evaluation"
   ]
  },
  {
   "cell_type": "code",
   "execution_count": null,
   "id": "16a831f1-b255-42c2-abb2-d4b4a9ebe29e",
   "metadata": {},
   "outputs": [],
   "source": [
    "# Data Preparation for LSTM Model Testing\n",
    "\n",
    "x_test = []\n",
    "y_test = test_data['scaled_values']\n",
    "\n",
    "for i in range(90, len(test_data)):  # Using a window size of 90\n",
    "    x_test.append(test_data['scaled_values'][i-90:i])\n",
    "\n",
    "x_test = np.array(x_test)\n",
    "x_test = np.reshape(x_test, (x_test.shape[0], x_test.shape[1], 1))\n"
   ]
  },
  {
   "cell_type": "code",
   "execution_count": null,
   "id": "779bdb9c-eab8-499d-a3cd-97ca2116155f",
   "metadata": {},
   "outputs": [],
   "source": [
    "#Performance Metrics\n",
    "from sklearn.metrics import mean_absolute_error\n",
    "import math\n",
    "\n",
    "y_true = test_data[90:]['Close'].values\n",
    "y_pred = predicted_stock_price\n",
    "\n",
    "# report performance\n",
    "mse = mean_squared_error(y_true, y_pred)\n",
    "print('MSE: '+str(mse))\n",
    "mae = mean_absolute_error(y_true, y_pred)\n",
    "print('MAE: '+str(mae))\n",
    "rmse = math.sqrt(mean_squared_error(y_true, y_pred))\n",
    "print('RMSE: '+str(rmse))\n",
    "mape = np.mean(np.abs(y_pred - y_true)/np.abs(y_true))\n",
    "print('MAPE: '+str(mape))"
   ]
  }
 ],
 "metadata": {
  "kernelspec": {
   "display_name": "Python 3 (ipykernel)",
   "language": "python",
   "name": "python3"
  },
  "language_info": {
   "codemirror_mode": {
    "name": "ipython",
    "version": 3
   },
   "file_extension": ".py",
   "mimetype": "text/x-python",
   "name": "python",
   "nbconvert_exporter": "python",
   "pygments_lexer": "ipython3",
   "version": "3.11.7"
  }
 },
 "nbformat": 4,
 "nbformat_minor": 5
}
