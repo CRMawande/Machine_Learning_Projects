{
  "cells": [
    {
      "cell_type": "markdown",
      "id": "7168dda0-8efa-4fd6-8f3c-0733bed369b3",
      "metadata": {
        "id": "7168dda0-8efa-4fd6-8f3c-0733bed369b3"
      },
      "source": [
        "# BHARAT INTERN TASK 1: Stock Prediction with LSTM\n",
        "\n",
        "To start, let me explain what we're aiming to do. We're going to use LSTM, a type of neural network, to predict future stock prices based on historical data. LSTM is particularly useful for this task because it can capture patterns in sequential data, like time-series data such as stock prices."
      ]
    },
    {
      "cell_type": "markdown",
      "id": "f32c776f-b791-4f7e-be48-1d96b37cbae1",
      "metadata": {
        "id": "f32c776f-b791-4f7e-be48-1d96b37cbae1"
      },
      "source": [
        "### Importing Libraries"
      ]
    },
    {
      "cell_type": "code",
      "execution_count": null,
      "id": "09c9bb92-800a-47b3-aaf7-0757444a402c",
      "metadata": {
        "id": "09c9bb92-800a-47b3-aaf7-0757444a402c"
      },
      "outputs": [],
      "source": [
        "#1. Importing necessary libraries\n",
        "import numpy as np\n",
        "import pandas as pd\n",
        "import matplotlib.pyplot as plt\n",
        "from sklearn.metrics import mean_squared_error\n",
        "import yfinance as yf\n",
        "from sklearn.preprocessing import MinMaxScaler\n",
        "from tensorflow.keras.models import Sequential\n",
        "from tensorflow.keras.layers import LSTM, Dropout, Dense\n",
        "\n",
        "#2. Suppress warnings\n",
        "import warnings\n",
        "warnings.filterwarnings('ignore')\n"
      ]
    },
    {
      "cell_type": "markdown",
      "id": "2ff4c101-6b4c-4571-b1bc-e1a196a4fcca",
      "metadata": {
        "id": "2ff4c101-6b4c-4571-b1bc-e1a196a4fcca"
      },
      "source": [
        "### Data Preprocessing:"
      ]
    },
    {
      "cell_type": "code",
      "execution_count": null,
      "id": "1a3c8c0e-7db9-449f-99be-ba785e8813f0",
      "metadata": {
        "id": "1a3c8c0e-7db9-449f-99be-ba785e8813f0"
      },
      "outputs": [],
      "source": [
        "#3. Download data using Yahoo finance API"
      ]
    },
    {
      "cell_type": "code",
      "execution_count": null,
      "id": "7dad9172-80fb-4566-b16c-15bcc2ed8ec4",
      "metadata": {
        "colab": {
          "base_uri": "https://localhost:8080/"
        },
        "id": "7dad9172-80fb-4566-b16c-15bcc2ed8ec4",
        "outputId": "722dffb1-3441-413b-e680-a84be6606f5f"
      },
      "outputs": [
        {
          "output_type": "stream",
          "name": "stderr",
          "text": [
            "\r[*********************100%%**********************]  1 of 1 completed\n"
          ]
        }
      ],
      "source": [
        "df = yf.download('TSLA').reset_index()\n",
        "df = df[(df['Date'] >= \"2012-01-01\") & (df['Date'] <= \"2024-06-24\")].reset_index(drop=True)"
      ]
    },
    {
      "cell_type": "code",
      "execution_count": null,
      "id": "8f8b78f6-629d-44e3-aff8-3ee191983de9",
      "metadata": {
        "id": "8f8b78f6-629d-44e3-aff8-3ee191983de9"
      },
      "outputs": [],
      "source": [
        "#4. Load Data and View basic information"
      ]
    },
    {
      "cell_type": "code",
      "execution_count": null,
      "id": "f7d7117d-9773-46d2-90b5-e00731a5d760",
      "metadata": {
        "colab": {
          "base_uri": "https://localhost:8080/",
          "height": 394
        },
        "id": "f7d7117d-9773-46d2-90b5-e00731a5d760",
        "outputId": "a6adf1f3-a2c5-4395-db30-b9e4fd7cee0e"
      },
      "outputs": [
        {
          "output_type": "execute_result",
          "data": {
            "text/plain": [
              "         Date      Open      High       Low     Close  Adj Close    Volume\n",
              "0  2012-01-03  1.929333  1.966667  1.843333  1.872000   1.872000  13921500\n",
              "1  2012-01-04  1.880667  1.911333  1.833333  1.847333   1.847333   9451500\n",
              "2  2012-01-05  1.850667  1.862000  1.790000  1.808000   1.808000  15082500\n",
              "3  2012-01-06  1.813333  1.852667  1.760667  1.794000   1.794000  14794500\n",
              "4  2012-01-09  1.800000  1.832667  1.741333  1.816667   1.816667  13455000\n",
              "5  2012-01-10  1.829333  1.850667  1.816667  1.841333   1.841333  10077000\n",
              "6  2012-01-11  1.841333  1.892000  1.820000  1.882000   1.882000  10084500\n",
              "7  2012-01-12  1.898667  1.908000  1.854000  1.883333   1.883333  10939500\n",
              "8  2012-01-13  1.893333  1.900000  1.509333  1.519333   1.519333  82506000\n",
              "9  2012-01-17  1.774667  1.822667  1.760667  1.773333   1.773333  69774000\n",
              "10 2012-01-18  1.779333  1.792000  1.750000  1.787333   1.787333  18903000"
            ],
            "text/html": [
              "\n",
              "  <div id=\"df-489ab970-cee1-470e-8fde-06d46d88de89\" class=\"colab-df-container\">\n",
              "    <div>\n",
              "<style scoped>\n",
              "    .dataframe tbody tr th:only-of-type {\n",
              "        vertical-align: middle;\n",
              "    }\n",
              "\n",
              "    .dataframe tbody tr th {\n",
              "        vertical-align: top;\n",
              "    }\n",
              "\n",
              "    .dataframe thead th {\n",
              "        text-align: right;\n",
              "    }\n",
              "</style>\n",
              "<table border=\"1\" class=\"dataframe\">\n",
              "  <thead>\n",
              "    <tr style=\"text-align: right;\">\n",
              "      <th></th>\n",
              "      <th>Date</th>\n",
              "      <th>Open</th>\n",
              "      <th>High</th>\n",
              "      <th>Low</th>\n",
              "      <th>Close</th>\n",
              "      <th>Adj Close</th>\n",
              "      <th>Volume</th>\n",
              "    </tr>\n",
              "  </thead>\n",
              "  <tbody>\n",
              "    <tr>\n",
              "      <th>0</th>\n",
              "      <td>2012-01-03</td>\n",
              "      <td>1.929333</td>\n",
              "      <td>1.966667</td>\n",
              "      <td>1.843333</td>\n",
              "      <td>1.872000</td>\n",
              "      <td>1.872000</td>\n",
              "      <td>13921500</td>\n",
              "    </tr>\n",
              "    <tr>\n",
              "      <th>1</th>\n",
              "      <td>2012-01-04</td>\n",
              "      <td>1.880667</td>\n",
              "      <td>1.911333</td>\n",
              "      <td>1.833333</td>\n",
              "      <td>1.847333</td>\n",
              "      <td>1.847333</td>\n",
              "      <td>9451500</td>\n",
              "    </tr>\n",
              "    <tr>\n",
              "      <th>2</th>\n",
              "      <td>2012-01-05</td>\n",
              "      <td>1.850667</td>\n",
              "      <td>1.862000</td>\n",
              "      <td>1.790000</td>\n",
              "      <td>1.808000</td>\n",
              "      <td>1.808000</td>\n",
              "      <td>15082500</td>\n",
              "    </tr>\n",
              "    <tr>\n",
              "      <th>3</th>\n",
              "      <td>2012-01-06</td>\n",
              "      <td>1.813333</td>\n",
              "      <td>1.852667</td>\n",
              "      <td>1.760667</td>\n",
              "      <td>1.794000</td>\n",
              "      <td>1.794000</td>\n",
              "      <td>14794500</td>\n",
              "    </tr>\n",
              "    <tr>\n",
              "      <th>4</th>\n",
              "      <td>2012-01-09</td>\n",
              "      <td>1.800000</td>\n",
              "      <td>1.832667</td>\n",
              "      <td>1.741333</td>\n",
              "      <td>1.816667</td>\n",
              "      <td>1.816667</td>\n",
              "      <td>13455000</td>\n",
              "    </tr>\n",
              "    <tr>\n",
              "      <th>5</th>\n",
              "      <td>2012-01-10</td>\n",
              "      <td>1.829333</td>\n",
              "      <td>1.850667</td>\n",
              "      <td>1.816667</td>\n",
              "      <td>1.841333</td>\n",
              "      <td>1.841333</td>\n",
              "      <td>10077000</td>\n",
              "    </tr>\n",
              "    <tr>\n",
              "      <th>6</th>\n",
              "      <td>2012-01-11</td>\n",
              "      <td>1.841333</td>\n",
              "      <td>1.892000</td>\n",
              "      <td>1.820000</td>\n",
              "      <td>1.882000</td>\n",
              "      <td>1.882000</td>\n",
              "      <td>10084500</td>\n",
              "    </tr>\n",
              "    <tr>\n",
              "      <th>7</th>\n",
              "      <td>2012-01-12</td>\n",
              "      <td>1.898667</td>\n",
              "      <td>1.908000</td>\n",
              "      <td>1.854000</td>\n",
              "      <td>1.883333</td>\n",
              "      <td>1.883333</td>\n",
              "      <td>10939500</td>\n",
              "    </tr>\n",
              "    <tr>\n",
              "      <th>8</th>\n",
              "      <td>2012-01-13</td>\n",
              "      <td>1.893333</td>\n",
              "      <td>1.900000</td>\n",
              "      <td>1.509333</td>\n",
              "      <td>1.519333</td>\n",
              "      <td>1.519333</td>\n",
              "      <td>82506000</td>\n",
              "    </tr>\n",
              "    <tr>\n",
              "      <th>9</th>\n",
              "      <td>2012-01-17</td>\n",
              "      <td>1.774667</td>\n",
              "      <td>1.822667</td>\n",
              "      <td>1.760667</td>\n",
              "      <td>1.773333</td>\n",
              "      <td>1.773333</td>\n",
              "      <td>69774000</td>\n",
              "    </tr>\n",
              "    <tr>\n",
              "      <th>10</th>\n",
              "      <td>2012-01-18</td>\n",
              "      <td>1.779333</td>\n",
              "      <td>1.792000</td>\n",
              "      <td>1.750000</td>\n",
              "      <td>1.787333</td>\n",
              "      <td>1.787333</td>\n",
              "      <td>18903000</td>\n",
              "    </tr>\n",
              "  </tbody>\n",
              "</table>\n",
              "</div>\n",
              "    <div class=\"colab-df-buttons\">\n",
              "\n",
              "  <div class=\"colab-df-container\">\n",
              "    <button class=\"colab-df-convert\" onclick=\"convertToInteractive('df-489ab970-cee1-470e-8fde-06d46d88de89')\"\n",
              "            title=\"Convert this dataframe to an interactive table.\"\n",
              "            style=\"display:none;\">\n",
              "\n",
              "  <svg xmlns=\"http://www.w3.org/2000/svg\" height=\"24px\" viewBox=\"0 -960 960 960\">\n",
              "    <path d=\"M120-120v-720h720v720H120Zm60-500h600v-160H180v160Zm220 220h160v-160H400v160Zm0 220h160v-160H400v160ZM180-400h160v-160H180v160Zm440 0h160v-160H620v160ZM180-180h160v-160H180v160Zm440 0h160v-160H620v160Z\"/>\n",
              "  </svg>\n",
              "    </button>\n",
              "\n",
              "  <style>\n",
              "    .colab-df-container {\n",
              "      display:flex;\n",
              "      gap: 12px;\n",
              "    }\n",
              "\n",
              "    .colab-df-convert {\n",
              "      background-color: #E8F0FE;\n",
              "      border: none;\n",
              "      border-radius: 50%;\n",
              "      cursor: pointer;\n",
              "      display: none;\n",
              "      fill: #1967D2;\n",
              "      height: 32px;\n",
              "      padding: 0 0 0 0;\n",
              "      width: 32px;\n",
              "    }\n",
              "\n",
              "    .colab-df-convert:hover {\n",
              "      background-color: #E2EBFA;\n",
              "      box-shadow: 0px 1px 2px rgba(60, 64, 67, 0.3), 0px 1px 3px 1px rgba(60, 64, 67, 0.15);\n",
              "      fill: #174EA6;\n",
              "    }\n",
              "\n",
              "    .colab-df-buttons div {\n",
              "      margin-bottom: 4px;\n",
              "    }\n",
              "\n",
              "    [theme=dark] .colab-df-convert {\n",
              "      background-color: #3B4455;\n",
              "      fill: #D2E3FC;\n",
              "    }\n",
              "\n",
              "    [theme=dark] .colab-df-convert:hover {\n",
              "      background-color: #434B5C;\n",
              "      box-shadow: 0px 1px 3px 1px rgba(0, 0, 0, 0.15);\n",
              "      filter: drop-shadow(0px 1px 2px rgba(0, 0, 0, 0.3));\n",
              "      fill: #FFFFFF;\n",
              "    }\n",
              "  </style>\n",
              "\n",
              "    <script>\n",
              "      const buttonEl =\n",
              "        document.querySelector('#df-489ab970-cee1-470e-8fde-06d46d88de89 button.colab-df-convert');\n",
              "      buttonEl.style.display =\n",
              "        google.colab.kernel.accessAllowed ? 'block' : 'none';\n",
              "\n",
              "      async function convertToInteractive(key) {\n",
              "        const element = document.querySelector('#df-489ab970-cee1-470e-8fde-06d46d88de89');\n",
              "        const dataTable =\n",
              "          await google.colab.kernel.invokeFunction('convertToInteractive',\n",
              "                                                    [key], {});\n",
              "        if (!dataTable) return;\n",
              "\n",
              "        const docLinkHtml = 'Like what you see? Visit the ' +\n",
              "          '<a target=\"_blank\" href=https://colab.research.google.com/notebooks/data_table.ipynb>data table notebook</a>'\n",
              "          + ' to learn more about interactive tables.';\n",
              "        element.innerHTML = '';\n",
              "        dataTable['output_type'] = 'display_data';\n",
              "        await google.colab.output.renderOutput(dataTable, element);\n",
              "        const docLink = document.createElement('div');\n",
              "        docLink.innerHTML = docLinkHtml;\n",
              "        element.appendChild(docLink);\n",
              "      }\n",
              "    </script>\n",
              "  </div>\n",
              "\n",
              "\n",
              "<div id=\"df-35dde14b-b076-431d-8e06-1ae2306b53bb\">\n",
              "  <button class=\"colab-df-quickchart\" onclick=\"quickchart('df-35dde14b-b076-431d-8e06-1ae2306b53bb')\"\n",
              "            title=\"Suggest charts\"\n",
              "            style=\"display:none;\">\n",
              "\n",
              "<svg xmlns=\"http://www.w3.org/2000/svg\" height=\"24px\"viewBox=\"0 0 24 24\"\n",
              "     width=\"24px\">\n",
              "    <g>\n",
              "        <path d=\"M19 3H5c-1.1 0-2 .9-2 2v14c0 1.1.9 2 2 2h14c1.1 0 2-.9 2-2V5c0-1.1-.9-2-2-2zM9 17H7v-7h2v7zm4 0h-2V7h2v10zm4 0h-2v-4h2v4z\"/>\n",
              "    </g>\n",
              "</svg>\n",
              "  </button>\n",
              "\n",
              "<style>\n",
              "  .colab-df-quickchart {\n",
              "      --bg-color: #E8F0FE;\n",
              "      --fill-color: #1967D2;\n",
              "      --hover-bg-color: #E2EBFA;\n",
              "      --hover-fill-color: #174EA6;\n",
              "      --disabled-fill-color: #AAA;\n",
              "      --disabled-bg-color: #DDD;\n",
              "  }\n",
              "\n",
              "  [theme=dark] .colab-df-quickchart {\n",
              "      --bg-color: #3B4455;\n",
              "      --fill-color: #D2E3FC;\n",
              "      --hover-bg-color: #434B5C;\n",
              "      --hover-fill-color: #FFFFFF;\n",
              "      --disabled-bg-color: #3B4455;\n",
              "      --disabled-fill-color: #666;\n",
              "  }\n",
              "\n",
              "  .colab-df-quickchart {\n",
              "    background-color: var(--bg-color);\n",
              "    border: none;\n",
              "    border-radius: 50%;\n",
              "    cursor: pointer;\n",
              "    display: none;\n",
              "    fill: var(--fill-color);\n",
              "    height: 32px;\n",
              "    padding: 0;\n",
              "    width: 32px;\n",
              "  }\n",
              "\n",
              "  .colab-df-quickchart:hover {\n",
              "    background-color: var(--hover-bg-color);\n",
              "    box-shadow: 0 1px 2px rgba(60, 64, 67, 0.3), 0 1px 3px 1px rgba(60, 64, 67, 0.15);\n",
              "    fill: var(--button-hover-fill-color);\n",
              "  }\n",
              "\n",
              "  .colab-df-quickchart-complete:disabled,\n",
              "  .colab-df-quickchart-complete:disabled:hover {\n",
              "    background-color: var(--disabled-bg-color);\n",
              "    fill: var(--disabled-fill-color);\n",
              "    box-shadow: none;\n",
              "  }\n",
              "\n",
              "  .colab-df-spinner {\n",
              "    border: 2px solid var(--fill-color);\n",
              "    border-color: transparent;\n",
              "    border-bottom-color: var(--fill-color);\n",
              "    animation:\n",
              "      spin 1s steps(1) infinite;\n",
              "  }\n",
              "\n",
              "  @keyframes spin {\n",
              "    0% {\n",
              "      border-color: transparent;\n",
              "      border-bottom-color: var(--fill-color);\n",
              "      border-left-color: var(--fill-color);\n",
              "    }\n",
              "    20% {\n",
              "      border-color: transparent;\n",
              "      border-left-color: var(--fill-color);\n",
              "      border-top-color: var(--fill-color);\n",
              "    }\n",
              "    30% {\n",
              "      border-color: transparent;\n",
              "      border-left-color: var(--fill-color);\n",
              "      border-top-color: var(--fill-color);\n",
              "      border-right-color: var(--fill-color);\n",
              "    }\n",
              "    40% {\n",
              "      border-color: transparent;\n",
              "      border-right-color: var(--fill-color);\n",
              "      border-top-color: var(--fill-color);\n",
              "    }\n",
              "    60% {\n",
              "      border-color: transparent;\n",
              "      border-right-color: var(--fill-color);\n",
              "    }\n",
              "    80% {\n",
              "      border-color: transparent;\n",
              "      border-right-color: var(--fill-color);\n",
              "      border-bottom-color: var(--fill-color);\n",
              "    }\n",
              "    90% {\n",
              "      border-color: transparent;\n",
              "      border-bottom-color: var(--fill-color);\n",
              "    }\n",
              "  }\n",
              "</style>\n",
              "\n",
              "  <script>\n",
              "    async function quickchart(key) {\n",
              "      const quickchartButtonEl =\n",
              "        document.querySelector('#' + key + ' button');\n",
              "      quickchartButtonEl.disabled = true;  // To prevent multiple clicks.\n",
              "      quickchartButtonEl.classList.add('colab-df-spinner');\n",
              "      try {\n",
              "        const charts = await google.colab.kernel.invokeFunction(\n",
              "            'suggestCharts', [key], {});\n",
              "      } catch (error) {\n",
              "        console.error('Error during call to suggestCharts:', error);\n",
              "      }\n",
              "      quickchartButtonEl.classList.remove('colab-df-spinner');\n",
              "      quickchartButtonEl.classList.add('colab-df-quickchart-complete');\n",
              "    }\n",
              "    (() => {\n",
              "      let quickchartButtonEl =\n",
              "        document.querySelector('#df-35dde14b-b076-431d-8e06-1ae2306b53bb button');\n",
              "      quickchartButtonEl.style.display =\n",
              "        google.colab.kernel.accessAllowed ? 'block' : 'none';\n",
              "    })();\n",
              "  </script>\n",
              "</div>\n",
              "\n",
              "    </div>\n",
              "  </div>\n"
            ],
            "application/vnd.google.colaboratory.intrinsic+json": {
              "type": "dataframe",
              "variable_name": "df",
              "summary": "{\n  \"name\": \"df\",\n  \"rows\": 3128,\n  \"fields\": [\n    {\n      \"column\": \"Date\",\n      \"properties\": {\n        \"dtype\": \"date\",\n        \"min\": \"2012-01-03 00:00:00\",\n        \"max\": \"2024-06-07 00:00:00\",\n        \"num_unique_values\": 3128,\n        \"samples\": [\n          \"2022-12-09 00:00:00\",\n          \"2022-02-11 00:00:00\",\n          \"2012-09-17 00:00:00\"\n        ],\n        \"semantic_type\": \"\",\n        \"description\": \"\"\n      }\n    },\n    {\n      \"column\": \"Open\",\n      \"properties\": {\n        \"dtype\": \"number\",\n        \"std\": 104.6747387830018,\n        \"min\": 1.7746670246124268,\n        \"max\": 411.4700012207031,\n        \"num_unique_values\": 2940,\n        \"samples\": [\n          334.4366760253906,\n          15.616666793823242,\n          333.3333435058594\n        ],\n        \"semantic_type\": \"\",\n        \"description\": \"\"\n      }\n    },\n    {\n      \"column\": \"High\",\n      \"properties\": {\n        \"dtype\": \"number\",\n        \"std\": 106.98137537531095,\n        \"min\": 1.7899999618530273,\n        \"max\": 414.4966735839844,\n        \"num_unique_values\": 2918,\n        \"samples\": [\n          142.69332885742188,\n          14.549332618713379,\n          306.1666564941406\n        ],\n        \"semantic_type\": \"\",\n        \"description\": \"\"\n      }\n    },\n    {\n      \"column\": \"Low\",\n      \"properties\": {\n        \"dtype\": \"number\",\n        \"std\": 102.1333038480021,\n        \"min\": 1.5093330144882202,\n        \"max\": 405.6666564941406,\n        \"num_unique_values\": 2936,\n        \"samples\": [\n          19.28066635131836,\n          18.833999633789062,\n          22.28066635131836\n        ],\n        \"semantic_type\": \"\",\n        \"description\": \"\"\n      }\n    },\n    {\n      \"column\": \"Close\",\n      \"properties\": {\n        \"dtype\": \"number\",\n        \"std\": 104.5866036194406,\n        \"min\": 1.519333004951477,\n        \"max\": 409.9700012207031,\n        \"num_unique_values\": 3015,\n        \"samples\": [\n          2.2986669540405273,\n          189.97999572753906,\n          1.9286669492721558\n        ],\n        \"semantic_type\": \"\",\n        \"description\": \"\"\n      }\n    },\n    {\n      \"column\": \"Adj Close\",\n      \"properties\": {\n        \"dtype\": \"number\",\n        \"std\": 104.5866036194406,\n        \"min\": 1.519333004951477,\n        \"max\": 409.9700012207031,\n        \"num_unique_values\": 3015,\n        \"samples\": [\n          2.2986669540405273,\n          189.97999572753906,\n          1.9286669492721558\n        ],\n        \"semantic_type\": \"\",\n        \"description\": \"\"\n      }\n    },\n    {\n      \"column\": \"Volume\",\n      \"properties\": {\n        \"dtype\": \"number\",\n        \"std\": 78213386,\n        \"min\": 5473500,\n        \"max\": 914082000,\n        \"num_unique_values\": 3107,\n        \"samples\": [\n          10611000,\n          16477500,\n          50890100\n        ],\n        \"semantic_type\": \"\",\n        \"description\": \"\"\n      }\n    }\n  ]\n}"
            }
          },
          "metadata": {},
          "execution_count": 59
        }
      ],
      "source": [
        "df.head(n=11)"
      ]
    },
    {
      "cell_type": "code",
      "execution_count": null,
      "id": "df366816-3e57-44b3-b7a2-73904d80f8bb",
      "metadata": {
        "colab": {
          "base_uri": "https://localhost:8080/"
        },
        "id": "df366816-3e57-44b3-b7a2-73904d80f8bb",
        "outputId": "021e4a7f-1121-470a-bad7-8f098d754a1a"
      },
      "outputs": [
        {
          "output_type": "execute_result",
          "data": {
            "text/plain": [
              "(3128, 7)"
            ]
          },
          "metadata": {},
          "execution_count": 5
        }
      ],
      "source": [
        "df.shape"
      ]
    },
    {
      "cell_type": "code",
      "execution_count": null,
      "id": "bb9466fa-aaa0-4ca6-ac4b-2882efeea4d6",
      "metadata": {
        "colab": {
          "base_uri": "https://localhost:8080/",
          "height": 300
        },
        "id": "bb9466fa-aaa0-4ca6-ac4b-2882efeea4d6",
        "outputId": "515c69de-1475-40fa-d193-ce3880c914c6"
      },
      "outputs": [
        {
          "output_type": "execute_result",
          "data": {
            "text/plain": [
              "                                Date         Open         High          Low  \\\n",
              "count                           3128  3128.000000  3128.000000  3128.000000   \n",
              "mean   2018-03-21 14:31:55.089513984    82.925367    84.727733    80.986794   \n",
              "min              2012-01-03 00:00:00     1.774667     1.790000     1.509333   \n",
              "25%              2015-02-11 18:00:00    13.963000    14.220833    13.748333   \n",
              "50%              2018-03-21 12:00:00    19.863333    20.263332    19.486667   \n",
              "75%              2021-04-29 06:00:00   176.224998   180.049995   173.565002   \n",
              "max              2024-06-07 00:00:00   411.470001   414.496674   405.666656   \n",
              "std                              NaN   104.674739   106.981375   102.133304   \n",
              "\n",
              "             Close    Adj Close        Volume  \n",
              "count  3128.000000  3128.000000  3.128000e+03  \n",
              "mean     82.898796    82.898796  1.061133e+08  \n",
              "min       1.519333     1.519333  5.473500e+06  \n",
              "25%      13.923833    13.923833  5.916075e+07  \n",
              "50%      19.866666    19.866666  8.916315e+07  \n",
              "75%     177.465004   177.465004  1.287229e+08  \n",
              "max     409.970001   409.970001  9.140820e+08  \n",
              "std     104.586604   104.586604  7.821339e+07  "
            ],
            "text/html": [
              "\n",
              "  <div id=\"df-d2f30dc6-fc11-4146-a12c-71a7909d1779\" class=\"colab-df-container\">\n",
              "    <div>\n",
              "<style scoped>\n",
              "    .dataframe tbody tr th:only-of-type {\n",
              "        vertical-align: middle;\n",
              "    }\n",
              "\n",
              "    .dataframe tbody tr th {\n",
              "        vertical-align: top;\n",
              "    }\n",
              "\n",
              "    .dataframe thead th {\n",
              "        text-align: right;\n",
              "    }\n",
              "</style>\n",
              "<table border=\"1\" class=\"dataframe\">\n",
              "  <thead>\n",
              "    <tr style=\"text-align: right;\">\n",
              "      <th></th>\n",
              "      <th>Date</th>\n",
              "      <th>Open</th>\n",
              "      <th>High</th>\n",
              "      <th>Low</th>\n",
              "      <th>Close</th>\n",
              "      <th>Adj Close</th>\n",
              "      <th>Volume</th>\n",
              "    </tr>\n",
              "  </thead>\n",
              "  <tbody>\n",
              "    <tr>\n",
              "      <th>count</th>\n",
              "      <td>3128</td>\n",
              "      <td>3128.000000</td>\n",
              "      <td>3128.000000</td>\n",
              "      <td>3128.000000</td>\n",
              "      <td>3128.000000</td>\n",
              "      <td>3128.000000</td>\n",
              "      <td>3.128000e+03</td>\n",
              "    </tr>\n",
              "    <tr>\n",
              "      <th>mean</th>\n",
              "      <td>2018-03-21 14:31:55.089513984</td>\n",
              "      <td>82.925367</td>\n",
              "      <td>84.727733</td>\n",
              "      <td>80.986794</td>\n",
              "      <td>82.898796</td>\n",
              "      <td>82.898796</td>\n",
              "      <td>1.061133e+08</td>\n",
              "    </tr>\n",
              "    <tr>\n",
              "      <th>min</th>\n",
              "      <td>2012-01-03 00:00:00</td>\n",
              "      <td>1.774667</td>\n",
              "      <td>1.790000</td>\n",
              "      <td>1.509333</td>\n",
              "      <td>1.519333</td>\n",
              "      <td>1.519333</td>\n",
              "      <td>5.473500e+06</td>\n",
              "    </tr>\n",
              "    <tr>\n",
              "      <th>25%</th>\n",
              "      <td>2015-02-11 18:00:00</td>\n",
              "      <td>13.963000</td>\n",
              "      <td>14.220833</td>\n",
              "      <td>13.748333</td>\n",
              "      <td>13.923833</td>\n",
              "      <td>13.923833</td>\n",
              "      <td>5.916075e+07</td>\n",
              "    </tr>\n",
              "    <tr>\n",
              "      <th>50%</th>\n",
              "      <td>2018-03-21 12:00:00</td>\n",
              "      <td>19.863333</td>\n",
              "      <td>20.263332</td>\n",
              "      <td>19.486667</td>\n",
              "      <td>19.866666</td>\n",
              "      <td>19.866666</td>\n",
              "      <td>8.916315e+07</td>\n",
              "    </tr>\n",
              "    <tr>\n",
              "      <th>75%</th>\n",
              "      <td>2021-04-29 06:00:00</td>\n",
              "      <td>176.224998</td>\n",
              "      <td>180.049995</td>\n",
              "      <td>173.565002</td>\n",
              "      <td>177.465004</td>\n",
              "      <td>177.465004</td>\n",
              "      <td>1.287229e+08</td>\n",
              "    </tr>\n",
              "    <tr>\n",
              "      <th>max</th>\n",
              "      <td>2024-06-07 00:00:00</td>\n",
              "      <td>411.470001</td>\n",
              "      <td>414.496674</td>\n",
              "      <td>405.666656</td>\n",
              "      <td>409.970001</td>\n",
              "      <td>409.970001</td>\n",
              "      <td>9.140820e+08</td>\n",
              "    </tr>\n",
              "    <tr>\n",
              "      <th>std</th>\n",
              "      <td>NaN</td>\n",
              "      <td>104.674739</td>\n",
              "      <td>106.981375</td>\n",
              "      <td>102.133304</td>\n",
              "      <td>104.586604</td>\n",
              "      <td>104.586604</td>\n",
              "      <td>7.821339e+07</td>\n",
              "    </tr>\n",
              "  </tbody>\n",
              "</table>\n",
              "</div>\n",
              "    <div class=\"colab-df-buttons\">\n",
              "\n",
              "  <div class=\"colab-df-container\">\n",
              "    <button class=\"colab-df-convert\" onclick=\"convertToInteractive('df-d2f30dc6-fc11-4146-a12c-71a7909d1779')\"\n",
              "            title=\"Convert this dataframe to an interactive table.\"\n",
              "            style=\"display:none;\">\n",
              "\n",
              "  <svg xmlns=\"http://www.w3.org/2000/svg\" height=\"24px\" viewBox=\"0 -960 960 960\">\n",
              "    <path d=\"M120-120v-720h720v720H120Zm60-500h600v-160H180v160Zm220 220h160v-160H400v160Zm0 220h160v-160H400v160ZM180-400h160v-160H180v160Zm440 0h160v-160H620v160ZM180-180h160v-160H180v160Zm440 0h160v-160H620v160Z\"/>\n",
              "  </svg>\n",
              "    </button>\n",
              "\n",
              "  <style>\n",
              "    .colab-df-container {\n",
              "      display:flex;\n",
              "      gap: 12px;\n",
              "    }\n",
              "\n",
              "    .colab-df-convert {\n",
              "      background-color: #E8F0FE;\n",
              "      border: none;\n",
              "      border-radius: 50%;\n",
              "      cursor: pointer;\n",
              "      display: none;\n",
              "      fill: #1967D2;\n",
              "      height: 32px;\n",
              "      padding: 0 0 0 0;\n",
              "      width: 32px;\n",
              "    }\n",
              "\n",
              "    .colab-df-convert:hover {\n",
              "      background-color: #E2EBFA;\n",
              "      box-shadow: 0px 1px 2px rgba(60, 64, 67, 0.3), 0px 1px 3px 1px rgba(60, 64, 67, 0.15);\n",
              "      fill: #174EA6;\n",
              "    }\n",
              "\n",
              "    .colab-df-buttons div {\n",
              "      margin-bottom: 4px;\n",
              "    }\n",
              "\n",
              "    [theme=dark] .colab-df-convert {\n",
              "      background-color: #3B4455;\n",
              "      fill: #D2E3FC;\n",
              "    }\n",
              "\n",
              "    [theme=dark] .colab-df-convert:hover {\n",
              "      background-color: #434B5C;\n",
              "      box-shadow: 0px 1px 3px 1px rgba(0, 0, 0, 0.15);\n",
              "      filter: drop-shadow(0px 1px 2px rgba(0, 0, 0, 0.3));\n",
              "      fill: #FFFFFF;\n",
              "    }\n",
              "  </style>\n",
              "\n",
              "    <script>\n",
              "      const buttonEl =\n",
              "        document.querySelector('#df-d2f30dc6-fc11-4146-a12c-71a7909d1779 button.colab-df-convert');\n",
              "      buttonEl.style.display =\n",
              "        google.colab.kernel.accessAllowed ? 'block' : 'none';\n",
              "\n",
              "      async function convertToInteractive(key) {\n",
              "        const element = document.querySelector('#df-d2f30dc6-fc11-4146-a12c-71a7909d1779');\n",
              "        const dataTable =\n",
              "          await google.colab.kernel.invokeFunction('convertToInteractive',\n",
              "                                                    [key], {});\n",
              "        if (!dataTable) return;\n",
              "\n",
              "        const docLinkHtml = 'Like what you see? Visit the ' +\n",
              "          '<a target=\"_blank\" href=https://colab.research.google.com/notebooks/data_table.ipynb>data table notebook</a>'\n",
              "          + ' to learn more about interactive tables.';\n",
              "        element.innerHTML = '';\n",
              "        dataTable['output_type'] = 'display_data';\n",
              "        await google.colab.output.renderOutput(dataTable, element);\n",
              "        const docLink = document.createElement('div');\n",
              "        docLink.innerHTML = docLinkHtml;\n",
              "        element.appendChild(docLink);\n",
              "      }\n",
              "    </script>\n",
              "  </div>\n",
              "\n",
              "\n",
              "<div id=\"df-7867415f-1651-4967-a83f-af645fee6932\">\n",
              "  <button class=\"colab-df-quickchart\" onclick=\"quickchart('df-7867415f-1651-4967-a83f-af645fee6932')\"\n",
              "            title=\"Suggest charts\"\n",
              "            style=\"display:none;\">\n",
              "\n",
              "<svg xmlns=\"http://www.w3.org/2000/svg\" height=\"24px\"viewBox=\"0 0 24 24\"\n",
              "     width=\"24px\">\n",
              "    <g>\n",
              "        <path d=\"M19 3H5c-1.1 0-2 .9-2 2v14c0 1.1.9 2 2 2h14c1.1 0 2-.9 2-2V5c0-1.1-.9-2-2-2zM9 17H7v-7h2v7zm4 0h-2V7h2v10zm4 0h-2v-4h2v4z\"/>\n",
              "    </g>\n",
              "</svg>\n",
              "  </button>\n",
              "\n",
              "<style>\n",
              "  .colab-df-quickchart {\n",
              "      --bg-color: #E8F0FE;\n",
              "      --fill-color: #1967D2;\n",
              "      --hover-bg-color: #E2EBFA;\n",
              "      --hover-fill-color: #174EA6;\n",
              "      --disabled-fill-color: #AAA;\n",
              "      --disabled-bg-color: #DDD;\n",
              "  }\n",
              "\n",
              "  [theme=dark] .colab-df-quickchart {\n",
              "      --bg-color: #3B4455;\n",
              "      --fill-color: #D2E3FC;\n",
              "      --hover-bg-color: #434B5C;\n",
              "      --hover-fill-color: #FFFFFF;\n",
              "      --disabled-bg-color: #3B4455;\n",
              "      --disabled-fill-color: #666;\n",
              "  }\n",
              "\n",
              "  .colab-df-quickchart {\n",
              "    background-color: var(--bg-color);\n",
              "    border: none;\n",
              "    border-radius: 50%;\n",
              "    cursor: pointer;\n",
              "    display: none;\n",
              "    fill: var(--fill-color);\n",
              "    height: 32px;\n",
              "    padding: 0;\n",
              "    width: 32px;\n",
              "  }\n",
              "\n",
              "  .colab-df-quickchart:hover {\n",
              "    background-color: var(--hover-bg-color);\n",
              "    box-shadow: 0 1px 2px rgba(60, 64, 67, 0.3), 0 1px 3px 1px rgba(60, 64, 67, 0.15);\n",
              "    fill: var(--button-hover-fill-color);\n",
              "  }\n",
              "\n",
              "  .colab-df-quickchart-complete:disabled,\n",
              "  .colab-df-quickchart-complete:disabled:hover {\n",
              "    background-color: var(--disabled-bg-color);\n",
              "    fill: var(--disabled-fill-color);\n",
              "    box-shadow: none;\n",
              "  }\n",
              "\n",
              "  .colab-df-spinner {\n",
              "    border: 2px solid var(--fill-color);\n",
              "    border-color: transparent;\n",
              "    border-bottom-color: var(--fill-color);\n",
              "    animation:\n",
              "      spin 1s steps(1) infinite;\n",
              "  }\n",
              "\n",
              "  @keyframes spin {\n",
              "    0% {\n",
              "      border-color: transparent;\n",
              "      border-bottom-color: var(--fill-color);\n",
              "      border-left-color: var(--fill-color);\n",
              "    }\n",
              "    20% {\n",
              "      border-color: transparent;\n",
              "      border-left-color: var(--fill-color);\n",
              "      border-top-color: var(--fill-color);\n",
              "    }\n",
              "    30% {\n",
              "      border-color: transparent;\n",
              "      border-left-color: var(--fill-color);\n",
              "      border-top-color: var(--fill-color);\n",
              "      border-right-color: var(--fill-color);\n",
              "    }\n",
              "    40% {\n",
              "      border-color: transparent;\n",
              "      border-right-color: var(--fill-color);\n",
              "      border-top-color: var(--fill-color);\n",
              "    }\n",
              "    60% {\n",
              "      border-color: transparent;\n",
              "      border-right-color: var(--fill-color);\n",
              "    }\n",
              "    80% {\n",
              "      border-color: transparent;\n",
              "      border-right-color: var(--fill-color);\n",
              "      border-bottom-color: var(--fill-color);\n",
              "    }\n",
              "    90% {\n",
              "      border-color: transparent;\n",
              "      border-bottom-color: var(--fill-color);\n",
              "    }\n",
              "  }\n",
              "</style>\n",
              "\n",
              "  <script>\n",
              "    async function quickchart(key) {\n",
              "      const quickchartButtonEl =\n",
              "        document.querySelector('#' + key + ' button');\n",
              "      quickchartButtonEl.disabled = true;  // To prevent multiple clicks.\n",
              "      quickchartButtonEl.classList.add('colab-df-spinner');\n",
              "      try {\n",
              "        const charts = await google.colab.kernel.invokeFunction(\n",
              "            'suggestCharts', [key], {});\n",
              "      } catch (error) {\n",
              "        console.error('Error during call to suggestCharts:', error);\n",
              "      }\n",
              "      quickchartButtonEl.classList.remove('colab-df-spinner');\n",
              "      quickchartButtonEl.classList.add('colab-df-quickchart-complete');\n",
              "    }\n",
              "    (() => {\n",
              "      let quickchartButtonEl =\n",
              "        document.querySelector('#df-7867415f-1651-4967-a83f-af645fee6932 button');\n",
              "      quickchartButtonEl.style.display =\n",
              "        google.colab.kernel.accessAllowed ? 'block' : 'none';\n",
              "    })();\n",
              "  </script>\n",
              "</div>\n",
              "\n",
              "    </div>\n",
              "  </div>\n"
            ],
            "application/vnd.google.colaboratory.intrinsic+json": {
              "type": "dataframe",
              "summary": "{\n  \"name\": \"df\",\n  \"rows\": 8,\n  \"fields\": [\n    {\n      \"column\": \"Date\",\n      \"properties\": {\n        \"dtype\": \"date\",\n        \"min\": \"1970-01-01 00:00:00.000003128\",\n        \"max\": \"2024-06-07 00:00:00\",\n        \"num_unique_values\": 7,\n        \"samples\": [\n          \"3128\",\n          \"2018-03-21 14:31:55.089513984\",\n          \"2021-04-29 06:00:00\"\n        ],\n        \"semantic_type\": \"\",\n        \"description\": \"\"\n      }\n    },\n    {\n      \"column\": \"Open\",\n      \"properties\": {\n        \"dtype\": \"number\",\n        \"std\": 1073.2999900298798,\n        \"min\": 1.7746670246124268,\n        \"max\": 3128.0,\n        \"num_unique_values\": 8,\n        \"samples\": [\n          82.9253672596134,\n          176.2249984741211,\n          3128.0\n        ],\n        \"semantic_type\": \"\",\n        \"description\": \"\"\n      }\n    },\n    {\n      \"column\": \"High\",\n      \"properties\": {\n        \"dtype\": \"number\",\n        \"std\": 1072.847578207716,\n        \"min\": 1.7899999618530273,\n        \"max\": 3128.0,\n        \"num_unique_values\": 8,\n        \"samples\": [\n          84.72773289268889,\n          180.04999542236328,\n          3128.0\n        ],\n        \"semantic_type\": \"\",\n        \"description\": \"\"\n      }\n    },\n    {\n      \"column\": \"Low\",\n      \"properties\": {\n        \"dtype\": \"number\",\n        \"std\": 1073.7675945597807,\n        \"min\": 1.5093330144882202,\n        \"max\": 3128.0,\n        \"num_unique_values\": 8,\n        \"samples\": [\n          80.98679363277867,\n          173.56500244140625,\n          3128.0\n        ],\n        \"semantic_type\": \"\",\n        \"description\": \"\"\n      }\n    },\n    {\n      \"column\": \"Close\",\n      \"properties\": {\n        \"dtype\": \"number\",\n        \"std\": 1073.2891694215518,\n        \"min\": 1.519333004951477,\n        \"max\": 3128.0,\n        \"num_unique_values\": 8,\n        \"samples\": [\n          82.8987964382943,\n          177.46500396728516,\n          3128.0\n        ],\n        \"semantic_type\": \"\",\n        \"description\": \"\"\n      }\n    },\n    {\n      \"column\": \"Adj Close\",\n      \"properties\": {\n        \"dtype\": \"number\",\n        \"std\": 1073.2891694215518,\n        \"min\": 1.519333004951477,\n        \"max\": 3128.0,\n        \"num_unique_values\": 8,\n        \"samples\": [\n          82.8987964382943,\n          177.46500396728516,\n          3128.0\n        ],\n        \"semantic_type\": \"\",\n        \"description\": \"\"\n      }\n    },\n    {\n      \"column\": \"Volume\",\n      \"properties\": {\n        \"dtype\": \"number\",\n        \"std\": 302985427.0100518,\n        \"min\": 3128.0,\n        \"max\": 914082000.0,\n        \"num_unique_values\": 8,\n        \"samples\": [\n          106113345.46035805,\n          128722875.0,\n          3128.0\n        ],\n        \"semantic_type\": \"\",\n        \"description\": \"\"\n      }\n    }\n  ]\n}"
            }
          },
          "metadata": {},
          "execution_count": 60
        }
      ],
      "source": [
        "df.describe()"
      ]
    },
    {
      "cell_type": "code",
      "execution_count": null,
      "id": "06fbbbcc-fb55-44b3-9ab6-fa081b622f8d",
      "metadata": {
        "colab": {
          "base_uri": "https://localhost:8080/"
        },
        "id": "06fbbbcc-fb55-44b3-9ab6-fa081b622f8d",
        "outputId": "1da93bb4-e78a-4ecf-c2df-bbed1b8314a6"
      },
      "outputs": [
        {
          "output_type": "stream",
          "name": "stdout",
          "text": [
            "<class 'pandas.core.frame.DataFrame'>\n",
            "RangeIndex: 3128 entries, 0 to 3127\n",
            "Data columns (total 7 columns):\n",
            " #   Column     Non-Null Count  Dtype         \n",
            "---  ------     --------------  -----         \n",
            " 0   Date       3128 non-null   datetime64[ns]\n",
            " 1   Open       3128 non-null   float64       \n",
            " 2   High       3128 non-null   float64       \n",
            " 3   Low        3128 non-null   float64       \n",
            " 4   Close      3128 non-null   float64       \n",
            " 5   Adj Close  3128 non-null   float64       \n",
            " 6   Volume     3128 non-null   int64         \n",
            "dtypes: datetime64[ns](1), float64(5), int64(1)\n",
            "memory usage: 171.2 KB\n"
          ]
        }
      ],
      "source": [
        "df.info()"
      ]
    },
    {
      "cell_type": "code",
      "execution_count": null,
      "id": "de88c9c8-d56e-47ac-be42-4903d3a98063",
      "metadata": {
        "colab": {
          "base_uri": "https://localhost:8080/"
        },
        "id": "de88c9c8-d56e-47ac-be42-4903d3a98063",
        "outputId": "c89b8e39-96ca-45be-f120-8ae160d3a030"
      },
      "outputs": [
        {
          "output_type": "execute_result",
          "data": {
            "text/plain": [
              "Date         0\n",
              "Open         0\n",
              "High         0\n",
              "Low          0\n",
              "Close        0\n",
              "Adj Close    0\n",
              "Volume       0\n",
              "dtype: int64"
            ]
          },
          "metadata": {},
          "execution_count": 62
        }
      ],
      "source": [
        "#5. Check for missing values\n",
        "df.isna().sum()"
      ]
    },
    {
      "cell_type": "code",
      "execution_count": null,
      "id": "ca2ffacb-2004-4235-b0bb-5f5a65f94631",
      "metadata": {
        "id": "ca2ffacb-2004-4235-b0bb-5f5a65f94631"
      },
      "outputs": [],
      "source": [
        "#6 Scaling the Closing Price\n",
        "# Using MinMaxScaler formula: y = (y - min(y)) / (max(y) - min(y))\n",
        "scaler = MinMaxScaler(feature_range=(0,1))\n",
        "df['scaled_values'] = scaler.fit_transform(df['Close'].values.reshape(-1,1))\n"
      ]
    },
    {
      "cell_type": "markdown",
      "id": "b7500486-9258-4e63-abf2-1111654d71bf",
      "metadata": {
        "id": "b7500486-9258-4e63-abf2-1111654d71bf"
      },
      "source": [
        "### Data Splitting"
      ]
    },
    {
      "cell_type": "code",
      "execution_count": null,
      "id": "f6b27d78-1cd8-4ff3-afb5-16e954354072",
      "metadata": {
        "id": "f6b27d78-1cd8-4ff3-afb5-16e954354072"
      },
      "outputs": [],
      "source": [
        "# Splitting data into train and test sets\n",
        "train_data = df[df['Date'] < '2023-01-01']\n",
        "test_data = df[df['Date'] >= '2023-01-01']"
      ]
    },
    {
      "cell_type": "markdown",
      "id": "7f6d833c-039c-42df-82aa-41c459ecd30a",
      "metadata": {
        "id": "7f6d833c-039c-42df-82aa-41c459ecd30a"
      },
      "source": [
        "###  Data Visualization"
      ]
    },
    {
      "cell_type": "code",
      "execution_count": null,
      "id": "7764eec2-fd2a-4141-84bd-36531077674d",
      "metadata": {
        "id": "7764eec2-fd2a-4141-84bd-36531077674d"
      },
      "outputs": [],
      "source": [
        "#7. Data Visualization"
      ]
    },
    {
      "cell_type": "code",
      "execution_count": null,
      "id": "e3e89acf-33df-463e-99dc-25dea2266edc",
      "metadata": {
        "colab": {
          "base_uri": "https://localhost:8080/",
          "height": 472
        },
        "id": "e3e89acf-33df-463e-99dc-25dea2266edc",
        "outputId": "ca1d1159-d91c-49fc-b413-e66059d35205"
      },
      "outputs": [
        {
          "output_type": "display_data",
          "data": {
            "text/plain": [
              "<Figure size 640x480 with 1 Axes>"
            ],
            "image/png": "[encoded data removed]"
          },
          "metadata": {}
        }
      ],
      "source": [
        "#7.1 Tesla Stock Chart 2012-2023\n",
        "plt.plot(df[\"Date\"], df[\"Close\"], color='red')\n",
        "plt.title(\"Tesla stock price over time\")\n",
        "plt.xlabel(\"Time\")\n",
        "plt.ylabel(\"Price\")\n",
        "plt.show()\n"
      ]
    },
    {
      "cell_type": "code",
      "execution_count": null,
      "id": "e99c5d54-3a08-4a25-8062-eb5f6d81bfa3",
      "metadata": {
        "colab": {
          "base_uri": "https://localhost:8080/",
          "height": 696
        },
        "id": "e99c5d54-3a08-4a25-8062-eb5f6d81bfa3",
        "outputId": "e44d3e96-f5b9-4c09-ade9-bdaab2caff8c"
      },
      "outputs": [
        {
          "output_type": "display_data",
          "data": {
            "text/plain": [
              "<Figure size 1200x800 with 1 Axes>"
            ],
            "image/png": "[encoded data removed]"
          },
          "metadata": {}
        }
      ],
      "source": [
        "#7.2 Tesla Stock Price Chart\n",
        "# Plotting the data\n",
        "plt.figure(figsize=(12,8))\n",
        "plt.grid(True)\n",
        "plt.xlabel('Dates')\n",
        "plt.ylabel('Closing Prices')\n",
        "plt.plot(df['Date'], df['Close'], color='blue', label='Train data')\n",
        "plt.plot(test_data['Date'], test_data['Close'], color='purple', label='Test data')\n",
        "plt.legend()\n",
        "plt.show()"
      ]
    },
    {
      "cell_type": "markdown",
      "id": "d7a6b814-c6b4-4509-871a-676a56e3ff5a",
      "metadata": {
        "id": "d7a6b814-c6b4-4509-871a-676a56e3ff5a"
      },
      "source": [
        "### Data Preparation"
      ]
    },
    {
      "cell_type": "code",
      "execution_count": null,
      "id": "ef2efa87-34c5-405d-b96a-7265c33a452d",
      "metadata": {
        "id": "ef2efa87-34c5-405d-b96a-7265c33a452d"
      },
      "outputs": [],
      "source": [
        "#8.1 Data Preparation for LSTM Model Training\n",
        "x_train = []\n",
        "y_train = []\n",
        "\n",
        "for i in range(60, len(train_data['scaled_values'])):\n",
        "    x_train.append(train_data['scaled_values'][i-60:i])\n",
        "    y_train.append(train_data['scaled_values'][i])\n",
        "\n",
        "x_train, y_train = np.array(x_train), np.array(y_train)\n",
        "\n",
        "# converting it back to 3D array as required by LSTM\n",
        "x_train = np.reshape(x_train, (x_train.shape[0], x_train.shape[1], 1))\n"
      ]
    },
    {
      "cell_type": "code",
      "execution_count": null,
      "id": "f465283e-7c08-443a-af0e-f713312e5f26",
      "metadata": {
        "id": "f465283e-7c08-443a-af0e-f713312e5f26"
      },
      "outputs": [],
      "source": [
        "#8.2 Data Preparation for LSTM Model Testing\n",
        "\n",
        "x_test = []\n",
        "y_test = test_data['scaled_values']\n",
        "\n",
        "for i in range(60, len(test_data)):\n",
        "    x_test.append(test_data['scaled_values'][i-60:i])\n",
        "\n",
        "x_test = np.array(x_test)\n",
        "x_test = np.reshape(x_test, (x_test.shape[0], x_test.shape[1], 1))\n"
      ]
    },
    {
      "cell_type": "markdown",
      "id": "3cae30a7-dcce-4375-a7d6-3365eae26afb",
      "metadata": {
        "id": "3cae30a7-dcce-4375-a7d6-3365eae26afb"
      },
      "source": [
        "### Model Building"
      ]
    },
    {
      "cell_type": "code",
      "execution_count": null,
      "id": "e35dc0ec-0924-437b-ae21-5b853795f6f7",
      "metadata": {
        "colab": {
          "base_uri": "https://localhost:8080/",
          "height": 442
        },
        "id": "e35dc0ec-0924-437b-ae21-5b853795f6f7",
        "outputId": "b7032521-5657-4893-a2af-6ab516602cb0"
      },
      "outputs": [
        {
          "output_type": "display_data",
          "data": {
            "text/plain": [
              "\u001b[1mModel: \"sequential_38\"\u001b[0m\n"
            ],
            "text/html": [
              "<pre style=\"white-space:pre;overflow-x:auto;line-height:normal;font-family:Menlo,'DejaVu Sans Mono',consolas,'Courier New',monospace\"><span style=\"font-weight: bold\">Model: \"sequential_38\"</span>\n",
              "</pre>\n"
            ]
          },
          "metadata": {}
        },
        {
          "output_type": "display_data",
          "data": {
            "text/plain": [
              "┏━━━━━━━━━━━━━━━━━━━━━━━━━━━━━━━━━━━━━━┳━━━━━━━━━━━━━━━━━━━━━━━━━━━━━┳━━━━━━━━━━━━━━━━━┓\n",
              "┃\u001b[1m \u001b[0m\u001b[1mLayer (type)                        \u001b[0m\u001b[1m \u001b[0m┃\u001b[1m \u001b[0m\u001b[1mOutput Shape               \u001b[0m\u001b[1m \u001b[0m┃\u001b[1m \u001b[0m\u001b[1m        Param #\u001b[0m\u001b[1m \u001b[0m┃\n",
              "┡━━━━━━━━━━━━━━━━━━━━━━━━━━━━━━━━━━━━━━╇━━━━━━━━━━━━━━━━━━━━━━━━━━━━━╇━━━━━━━━━━━━━━━━━┩\n",
              "│ lstm_32 (\u001b[38;5;33mLSTM\u001b[0m)                       │ (\u001b[38;5;45mNone\u001b[0m, \u001b[38;5;34m60\u001b[0m, \u001b[38;5;34m50\u001b[0m)              │          \u001b[38;5;34m10,400\u001b[0m │\n",
              "├──────────────────────────────────────┼─────────────────────────────┼─────────────────┤\n",
              "│ dropout_32 (\u001b[38;5;33mDropout\u001b[0m)                 │ (\u001b[38;5;45mNone\u001b[0m, \u001b[38;5;34m60\u001b[0m, \u001b[38;5;34m50\u001b[0m)              │               \u001b[38;5;34m0\u001b[0m │\n",
              "├──────────────────────────────────────┼─────────────────────────────┼─────────────────┤\n",
              "│ lstm_33 (\u001b[38;5;33mLSTM\u001b[0m)                       │ (\u001b[38;5;45mNone\u001b[0m, \u001b[38;5;34m60\u001b[0m, \u001b[38;5;34m50\u001b[0m)              │          \u001b[38;5;34m20,200\u001b[0m │\n",
              "├──────────────────────────────────────┼─────────────────────────────┼─────────────────┤\n",
              "│ dropout_33 (\u001b[38;5;33mDropout\u001b[0m)                 │ (\u001b[38;5;45mNone\u001b[0m, \u001b[38;5;34m60\u001b[0m, \u001b[38;5;34m50\u001b[0m)              │               \u001b[38;5;34m0\u001b[0m │\n",
              "├──────────────────────────────────────┼─────────────────────────────┼─────────────────┤\n",
              "│ lstm_34 (\u001b[38;5;33mLSTM\u001b[0m)                       │ (\u001b[38;5;45mNone\u001b[0m, \u001b[38;5;34m60\u001b[0m, \u001b[38;5;34m50\u001b[0m)              │          \u001b[38;5;34m20,200\u001b[0m │\n",
              "├──────────────────────────────────────┼─────────────────────────────┼─────────────────┤\n",
              "│ dropout_34 (\u001b[38;5;33mDropout\u001b[0m)                 │ (\u001b[38;5;45mNone\u001b[0m, \u001b[38;5;34m60\u001b[0m, \u001b[38;5;34m50\u001b[0m)              │               \u001b[38;5;34m0\u001b[0m │\n",
              "├──────────────────────────────────────┼─────────────────────────────┼─────────────────┤\n",
              "│ lstm_35 (\u001b[38;5;33mLSTM\u001b[0m)                       │ (\u001b[38;5;45mNone\u001b[0m, \u001b[38;5;34m50\u001b[0m)                  │          \u001b[38;5;34m20,200\u001b[0m │\n",
              "├──────────────────────────────────────┼─────────────────────────────┼─────────────────┤\n",
              "│ dropout_35 (\u001b[38;5;33mDropout\u001b[0m)                 │ (\u001b[38;5;45mNone\u001b[0m, \u001b[38;5;34m50\u001b[0m)                  │               \u001b[38;5;34m0\u001b[0m │\n",
              "├──────────────────────────────────────┼─────────────────────────────┼─────────────────┤\n",
              "│ dense_8 (\u001b[38;5;33mDense\u001b[0m)                      │ (\u001b[38;5;45mNone\u001b[0m, \u001b[38;5;34m1\u001b[0m)                   │              \u001b[38;5;34m51\u001b[0m │\n",
              "└──────────────────────────────────────┴─────────────────────────────┴─────────────────┘\n"
            ],
            "text/html": [
              "<pre style=\"white-space:pre;overflow-x:auto;line-height:normal;font-family:Menlo,'DejaVu Sans Mono',consolas,'Courier New',monospace\">┏━━━━━━━━━━━━━━━━━━━━━━━━━━━━━━━━━━━━━━┳━━━━━━━━━━━━━━━━━━━━━━━━━━━━━┳━━━━━━━━━━━━━━━━━┓\n",
              "┃<span style=\"font-weight: bold\"> Layer (type)                         </span>┃<span style=\"font-weight: bold\"> Output Shape                </span>┃<span style=\"font-weight: bold\">         Param # </span>┃\n",
              "┡━━━━━━━━━━━━━━━━━━━━━━━━━━━━━━━━━━━━━━╇━━━━━━━━━━━━━━━━━━━━━━━━━━━━━╇━━━━━━━━━━━━━━━━━┩\n",
              "│ lstm_32 (<span style=\"color: #0087ff; text-decoration-color: #0087ff\">LSTM</span>)                       │ (<span style=\"color: #00d7ff; text-decoration-color: #00d7ff\">None</span>, <span style=\"color: #00af00; text-decoration-color: #00af00\">60</span>, <span style=\"color: #00af00; text-decoration-color: #00af00\">50</span>)              │          <span style=\"color: #00af00; text-decoration-color: #00af00\">10,400</span> │\n",
              "├──────────────────────────────────────┼─────────────────────────────┼─────────────────┤\n",
              "│ dropout_32 (<span style=\"color: #0087ff; text-decoration-color: #0087ff\">Dropout</span>)                 │ (<span style=\"color: #00d7ff; text-decoration-color: #00d7ff\">None</span>, <span style=\"color: #00af00; text-decoration-color: #00af00\">60</span>, <span style=\"color: #00af00; text-decoration-color: #00af00\">50</span>)              │               <span style=\"color: #00af00; text-decoration-color: #00af00\">0</span> │\n",
              "├──────────────────────────────────────┼─────────────────────────────┼─────────────────┤\n",
              "│ lstm_33 (<span style=\"color: #0087ff; text-decoration-color: #0087ff\">LSTM</span>)                       │ (<span style=\"color: #00d7ff; text-decoration-color: #00d7ff\">None</span>, <span style=\"color: #00af00; text-decoration-color: #00af00\">60</span>, <span style=\"color: #00af00; text-decoration-color: #00af00\">50</span>)              │          <span style=\"color: #00af00; text-decoration-color: #00af00\">20,200</span> │\n",
              "├──────────────────────────────────────┼─────────────────────────────┼─────────────────┤\n",
              "│ dropout_33 (<span style=\"color: #0087ff; text-decoration-color: #0087ff\">Dropout</span>)                 │ (<span style=\"color: #00d7ff; text-decoration-color: #00d7ff\">None</span>, <span style=\"color: #00af00; text-decoration-color: #00af00\">60</span>, <span style=\"color: #00af00; text-decoration-color: #00af00\">50</span>)              │               <span style=\"color: #00af00; text-decoration-color: #00af00\">0</span> │\n",
              "├──────────────────────────────────────┼─────────────────────────────┼─────────────────┤\n",
              "│ lstm_34 (<span style=\"color: #0087ff; text-decoration-color: #0087ff\">LSTM</span>)                       │ (<span style=\"color: #00d7ff; text-decoration-color: #00d7ff\">None</span>, <span style=\"color: #00af00; text-decoration-color: #00af00\">60</span>, <span style=\"color: #00af00; text-decoration-color: #00af00\">50</span>)              │          <span style=\"color: #00af00; text-decoration-color: #00af00\">20,200</span> │\n",
              "├──────────────────────────────────────┼─────────────────────────────┼─────────────────┤\n",
              "│ dropout_34 (<span style=\"color: #0087ff; text-decoration-color: #0087ff\">Dropout</span>)                 │ (<span style=\"color: #00d7ff; text-decoration-color: #00d7ff\">None</span>, <span style=\"color: #00af00; text-decoration-color: #00af00\">60</span>, <span style=\"color: #00af00; text-decoration-color: #00af00\">50</span>)              │               <span style=\"color: #00af00; text-decoration-color: #00af00\">0</span> │\n",
              "├──────────────────────────────────────┼─────────────────────────────┼─────────────────┤\n",
              "│ lstm_35 (<span style=\"color: #0087ff; text-decoration-color: #0087ff\">LSTM</span>)                       │ (<span style=\"color: #00d7ff; text-decoration-color: #00d7ff\">None</span>, <span style=\"color: #00af00; text-decoration-color: #00af00\">50</span>)                  │          <span style=\"color: #00af00; text-decoration-color: #00af00\">20,200</span> │\n",
              "├──────────────────────────────────────┼─────────────────────────────┼─────────────────┤\n",
              "│ dropout_35 (<span style=\"color: #0087ff; text-decoration-color: #0087ff\">Dropout</span>)                 │ (<span style=\"color: #00d7ff; text-decoration-color: #00d7ff\">None</span>, <span style=\"color: #00af00; text-decoration-color: #00af00\">50</span>)                  │               <span style=\"color: #00af00; text-decoration-color: #00af00\">0</span> │\n",
              "├──────────────────────────────────────┼─────────────────────────────┼─────────────────┤\n",
              "│ dense_8 (<span style=\"color: #0087ff; text-decoration-color: #0087ff\">Dense</span>)                      │ (<span style=\"color: #00d7ff; text-decoration-color: #00d7ff\">None</span>, <span style=\"color: #00af00; text-decoration-color: #00af00\">1</span>)                   │              <span style=\"color: #00af00; text-decoration-color: #00af00\">51</span> │\n",
              "└──────────────────────────────────────┴─────────────────────────────┴─────────────────┘\n",
              "</pre>\n"
            ]
          },
          "metadata": {}
        },
        {
          "output_type": "display_data",
          "data": {
            "text/plain": [
              "\u001b[1m Total params: \u001b[0m\u001b[38;5;34m71,051\u001b[0m (277.54 KB)\n"
            ],
            "text/html": [
              "<pre style=\"white-space:pre;overflow-x:auto;line-height:normal;font-family:Menlo,'DejaVu Sans Mono',consolas,'Courier New',monospace\"><span style=\"font-weight: bold\"> Total params: </span><span style=\"color: #00af00; text-decoration-color: #00af00\">71,051</span> (277.54 KB)\n",
              "</pre>\n"
            ]
          },
          "metadata": {}
        },
        {
          "output_type": "display_data",
          "data": {
            "text/plain": [
              "\u001b[1m Trainable params: \u001b[0m\u001b[38;5;34m71,051\u001b[0m (277.54 KB)\n"
            ],
            "text/html": [
              "<pre style=\"white-space:pre;overflow-x:auto;line-height:normal;font-family:Menlo,'DejaVu Sans Mono',consolas,'Courier New',monospace\"><span style=\"font-weight: bold\"> Trainable params: </span><span style=\"color: #00af00; text-decoration-color: #00af00\">71,051</span> (277.54 KB)\n",
              "</pre>\n"
            ]
          },
          "metadata": {}
        },
        {
          "output_type": "display_data",
          "data": {
            "text/plain": [
              "\u001b[1m Non-trainable params: \u001b[0m\u001b[38;5;34m0\u001b[0m (0.00 B)\n"
            ],
            "text/html": [
              "<pre style=\"white-space:pre;overflow-x:auto;line-height:normal;font-family:Menlo,'DejaVu Sans Mono',consolas,'Courier New',monospace\"><span style=\"font-weight: bold\"> Non-trainable params: </span><span style=\"color: #00af00; text-decoration-color: #00af00\">0</span> (0.00 B)\n",
              "</pre>\n"
            ]
          },
          "metadata": {}
        }
      ],
      "source": [
        "#9 Model Architecture Definition for LSTM\n",
        "model = Sequential()\n",
        "model.add(LSTM(units=50, return_sequences=True, input_shape=(x_train.shape[1], 1)))\n",
        "model.add(Dropout(0.25))\n",
        "model.add(LSTM(units=50, return_sequences=True))\n",
        "model.add(Dropout(0.25))\n",
        "model.add(LSTM(units=50, return_sequences=True))\n",
        "model.add(Dropout(0.25))\n",
        "model.add(LSTM(units=50))\n",
        "model.add(Dropout(0.25))\n",
        "model.add(Dense(units=1))\n",
        "model.summary()\n"
      ]
    },
    {
      "cell_type": "code",
      "execution_count": null,
      "id": "da1be1bd-ea97-424b-8454-aa65d1a90440",
      "metadata": {
        "id": "da1be1bd-ea97-424b-8454-aa65d1a90440"
      },
      "outputs": [],
      "source": [
        "#10. Compiling the model\n",
        "model.compile(optimizer = 'adam', loss = 'mean_squared_error')"
      ]
    },
    {
      "cell_type": "markdown",
      "id": "3af30fca-0d7f-4da2-9273-621573035212",
      "metadata": {
        "id": "3af30fca-0d7f-4da2-9273-621573035212"
      },
      "source": [
        "### Model Training"
      ]
    },
    {
      "cell_type": "code",
      "execution_count": null,
      "id": "7f93eb59-aa0a-4562-9b78-aa971c249185",
      "metadata": {
        "colab": {
          "base_uri": "https://localhost:8080/"
        },
        "id": "7f93eb59-aa0a-4562-9b78-aa971c249185",
        "outputId": "60c28045-a926-410c-fdb3-11129d9bbab5"
      },
      "outputs": [
        {
          "output_type": "stream",
          "name": "stdout",
          "text": [
            "Epoch 1/10\n",
            "\u001b[1m85/85\u001b[0m \u001b[32m━━━━━━━━━━━━━━━━━━━━\u001b[0m\u001b[37m\u001b[0m \u001b[1m16s\u001b[0m 118ms/step - loss: 0.0171\n",
            "Epoch 2/10\n",
            "\u001b[1m85/85\u001b[0m \u001b[32m━━━━━━━━━━━━━━━━━━━━\u001b[0m\u001b[37m\u001b[0m \u001b[1m10s\u001b[0m 116ms/step - loss: 0.0038\n",
            "Epoch 3/10\n",
            "\u001b[1m85/85\u001b[0m \u001b[32m━━━━━━━━━━━━━━━━━━━━\u001b[0m\u001b[37m\u001b[0m \u001b[1m9s\u001b[0m 98ms/step - loss: 0.0027\n",
            "Epoch 4/10\n",
            "\u001b[1m85/85\u001b[0m \u001b[32m━━━━━━━━━━━━━━━━━━━━\u001b[0m\u001b[37m\u001b[0m \u001b[1m10s\u001b[0m 115ms/step - loss: 0.0025\n",
            "Epoch 5/10\n",
            "\u001b[1m85/85\u001b[0m \u001b[32m━━━━━━━━━━━━━━━━━━━━\u001b[0m\u001b[37m\u001b[0m \u001b[1m10s\u001b[0m 115ms/step - loss: 0.0022\n",
            "Epoch 6/10\n",
            "\u001b[1m85/85\u001b[0m \u001b[32m━━━━━━━━━━━━━━━━━━━━\u001b[0m\u001b[37m\u001b[0m \u001b[1m9s\u001b[0m 102ms/step - loss: 0.0018\n",
            "Epoch 7/10\n",
            "\u001b[1m85/85\u001b[0m \u001b[32m━━━━━━━━━━━━━━━━━━━━\u001b[0m\u001b[37m\u001b[0m \u001b[1m10s\u001b[0m 99ms/step - loss: 0.0021\n",
            "Epoch 8/10\n",
            "\u001b[1m85/85\u001b[0m \u001b[32m━━━━━━━━━━━━━━━━━━━━\u001b[0m\u001b[37m\u001b[0m \u001b[1m13s\u001b[0m 130ms/step - loss: 0.0024\n",
            "Epoch 9/10\n",
            "\u001b[1m85/85\u001b[0m \u001b[32m━━━━━━━━━━━━━━━━━━━━\u001b[0m\u001b[37m\u001b[0m \u001b[1m19s\u001b[0m 117ms/step - loss: 0.0019\n",
            "Epoch 10/10\n",
            "\u001b[1m85/85\u001b[0m \u001b[32m━━━━━━━━━━━━━━━━━━━━\u001b[0m\u001b[37m\u001b[0m \u001b[1m9s\u001b[0m 100ms/step - loss: 0.0019\n"
          ]
        },
        {
          "output_type": "execute_result",
          "data": {
            "text/plain": [
              "<keras.src.callbacks.history.History at 0x7ae18dff2a40>"
            ]
          },
          "metadata": {},
          "execution_count": 103
        }
      ],
      "source": [
        "#11. Fit the model on the training data\n",
        "model.fit(x_train, y_train, epochs = 10, batch_size = 32)"
      ]
    },
    {
      "cell_type": "code",
      "execution_count": null,
      "id": "1ef3b4ba-31f1-4b17-bed3-3c0c259d987b",
      "metadata": {
        "colab": {
          "base_uri": "https://localhost:8080/"
        },
        "id": "1ef3b4ba-31f1-4b17-bed3-3c0c259d987b",
        "outputId": "02af4a31-6bf5-4f73-a8da-9e0589049d7c"
      },
      "outputs": [
        {
          "output_type": "stream",
          "name": "stdout",
          "text": [
            "\u001b[1m10/10\u001b[0m \u001b[32m━━━━━━━━━━━━━━━━━━━━\u001b[0m\u001b[37m\u001b[0m \u001b[1m1s\u001b[0m 87ms/step\n"
          ]
        }
      ],
      "source": [
        "#12. Predict on test data\n",
        "predictions = model.predict(x_test)\n"
      ]
    },
    {
      "cell_type": "code",
      "source": [
        "inv_predictions = scaler.inverse_transform(predictions)\n"
      ],
      "metadata": {
        "id": "kFNB8ShNrklz"
      },
      "id": "kFNB8ShNrklz",
      "execution_count": null,
      "outputs": []
    },
    {
      "cell_type": "markdown",
      "id": "db598451-03e2-4dd9-bb47-e86e6a42bc1e",
      "metadata": {
        "id": "db598451-03e2-4dd9-bb47-e86e6a42bc1e"
      },
      "source": [
        "### Model Evaluation"
      ]
    },
    {
      "cell_type": "code",
      "execution_count": null,
      "id": "16a831f1-b255-42c2-abb2-d4b4a9ebe29e",
      "metadata": {
        "colab": {
          "base_uri": "https://localhost:8080/",
          "height": 718
        },
        "id": "16a831f1-b255-42c2-abb2-d4b4a9ebe29e",
        "outputId": "6c60d9de-f532-441f-fd55-a43b9bbb1c2d"
      },
      "outputs": [
        {
          "output_type": "display_data",
          "data": {
            "text/plain": [
              "<Figure size 1200x800 with 1 Axes>"
            ],
            "image/png": "[encoded data removed]"
          },
          "metadata": {}
        }
      ],
      "source": [
        "#13. plot all the series together\n",
        "plt.figure(figsize=(12,8), dpi=100)\n",
        "plt.plot(train_data['Date'], train_data['Close'],color = 'purple', label='Training data')\n",
        "plt.plot(test_data['Date'], test_data['Close'], color = 'red', label='Actual Stock Price')\n",
        "plt.plot(test_data[60:]['Date'], inv_predictions, color = 'blue',label='Predicted Stock Price')\n",
        "\n",
        "plt.title('Tesla Stock Price Prediction')\n",
        "plt.xlabel('Time')\n",
        "plt.ylabel('Tesla Stock Price')\n",
        "plt.legend(loc='upper left', fontsize=8)\n",
        "plt.show()\n"
      ]
    },
    {
      "cell_type": "code",
      "execution_count": null,
      "id": "779bdb9c-eab8-499d-a3cd-97ca2116155f",
      "metadata": {
        "colab": {
          "base_uri": "https://localhost:8080/"
        },
        "id": "779bdb9c-eab8-499d-a3cd-97ca2116155f",
        "outputId": "4daf45d1-d65d-4907-bc9f-aea2350a3556"
      },
      "outputs": [
        {
          "output_type": "stream",
          "name": "stdout",
          "text": [
            "MSE: 251.99553118536792\n",
            "MAE: 12.791644541422526\n",
            "RMSE: 15.874367111332909\n",
            "MAPE: 0.19878770976486734\n"
          ]
        }
      ],
      "source": [
        "#14. Performance Metrics\n",
        "from sklearn.metrics import mean_absolute_error\n",
        "import math\n",
        "\n",
        "y_true = test_data[60:]['Close'].values\n",
        "y_pred = inv_predictions\n",
        "\n",
        "#15. report performance\n",
        "mse = mean_squared_error(y_true, y_pred)\n",
        "print('MSE: '+str(mse))\n",
        "mae = mean_absolute_error(y_true, y_pred)\n",
        "print('MAE: '+str(mae))\n",
        "rmse = math.sqrt(mean_squared_error(y_true, y_pred))\n",
        "print('RMSE: '+str(rmse))\n",
        "mape = np.mean(np.abs(y_pred - y_true)/np.abs(y_true))\n",
        "print('MAPE: '+str(mape))"
      ]
    },
    {
      "cell_type": "markdown",
      "source": [
        "The model's performance metrics indicate reasonably good predictive accuracy, with errors\n",
        "in the predictions averaging around 252 MSE, 13 MAE, 16 RMSE, and 20% MAPE. These values suggest that, on average, the model's predictions deviate by approximately 20% from the actual values. While the MSE, MAE, and RMSE reflect the absolute errors in the predictions, the MAPE provides insight into the relative percentage errors, highlighting that the model's predictions are typically within a 20% margin of error from the actual values."
      ],
      "metadata": {
        "id": "e7TxyFb05ysM"
      },
      "id": "e7TxyFb05ysM"
    }
  ],
  "metadata": {
    "kernelspec": {
      "display_name": "Python 3 (ipykernel)",
      "language": "python",
      "name": "python3"
    },
    "language_info": {
      "codemirror_mode": {
        "name": "ipython",
        "version": 3
      },
      "file_extension": ".py",
      "mimetype": "text/x-python",
      "name": "python",
      "nbconvert_exporter": "python",
      "pygments_lexer": "ipython3",
      "version": "3.11.7"
    },
    "colab": {
      "provenance": []
    }
  },
  "nbformat": 4,
  "nbformat_minor": 5
}